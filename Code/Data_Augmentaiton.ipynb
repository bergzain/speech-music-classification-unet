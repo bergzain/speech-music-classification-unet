{
 "cells": [
  {
   "cell_type": "code",
   "execution_count": 1,
   "metadata": {
    "collapsed": true,
    "ExecuteTime": {
     "start_time": "2023-04-27T00:14:28.325610Z",
     "end_time": "2023-04-27T00:14:28.373134Z"
    }
   },
   "outputs": [],
   "source": [
    "import os\n",
    "from pydub import AudioSegment\n",
    "import random\n",
    "from pydub.playback import play\n",
    "from pydub.effects import speedup"
   ]
  },
  {
   "cell_type": "code",
   "execution_count": 7,
   "outputs": [],
   "source": [
    "music_folder = \"/Users/zainhazzouri/projects/Bachelor_Thesis/Data/Kaggle/music_wav\"\n",
    "speech_folder = \"/Users/zainhazzouri/projects/Bachelor_Thesis/Data/Kaggle/speech_wav\"\n",
    "output_Mix = \"/Users/zainhazzouri/projects/Bachelor_Thesis/Data/Kaggle/Mix_wav\"\n",
    "output_Augmentation = \"/Users/zainhazzouri/projects/Bachelor_Thesis/Data/Kaggle/Augmented_wav\"\n",
    "\n",
    "noise_folder = \"/Users/zainhazzouri/projects/Bachelor_Thesis/Data/Noise\""
   ],
   "metadata": {
    "collapsed": false,
    "ExecuteTime": {
     "start_time": "2023-04-27T00:16:58.869359Z",
     "end_time": "2023-04-27T00:16:58.873801Z"
    }
   }
  },
  {
   "cell_type": "code",
   "execution_count": 6,
   "outputs": [
    {
     "name": "stdout",
     "output_type": "stream",
     "text": [
      "Mixed audio files saved in /Users/zainhazzouri/projects/Bachelor_Thesis/Data/Kaggle/Mix_wav\n"
     ]
    }
   ],
   "source": [
    "## Create a mix of music and speech\n",
    "\n",
    "# Make sure output folder exists\n",
    "os.makedirs(output_Mix, exist_ok=True)\n",
    "\n",
    "music_files = [f for f in os.listdir(music_folder) if f.endswith('.wav')]\n",
    "speech_files = [f for f in os.listdir(speech_folder) if f.endswith('.wav')]\n",
    "\n",
    "for i, (music_file, speech_file) in enumerate(zip(music_files, speech_files)):\n",
    "    music_path = os.path.join(music_folder, music_file)\n",
    "    speech_path = os.path.join(speech_folder, speech_file)\n",
    "\n",
    "    music = AudioSegment.from_wav(music_path)\n",
    "    speech = AudioSegment.from_wav(speech_path)\n",
    "\n",
    "    # Mix the two audio files (adjust the volumes if needed)\n",
    "    mixed = music.overlay(speech)\n",
    "\n",
    "    # Save the mixed audio to the output folder\n",
    "    output_path = os.path.join(output_Mix, f'mixed_{i}.wav')\n",
    "    mixed.export(output_path, format='wav')\n",
    "\n",
    "print(f'Mixed audio files saved in {output_Mix}')\n"
   ],
   "metadata": {
    "collapsed": false,
    "ExecuteTime": {
     "start_time": "2023-04-27T00:15:31.002868Z",
     "end_time": "2023-04-27T00:15:31.089823Z"
    }
   }
  },
  {
   "cell_type": "code",
   "execution_count": 8,
   "outputs": [
    {
     "name": "stdout",
     "output_type": "stream",
     "text": [
      "Augmented audio files saved in /Users/zainhazzouri/projects/Bachelor_Thesis/Data/Kaggle/Augmented_wav\n"
     ]
    }
   ],
   "source": [
    "## preform data augmentation\n",
    "input_folder = music_folder\n",
    "\n",
    "# Get a list of all the noise files\n",
    "noise_files = [f for f in os.listdir(noise_folder) if f.endswith('.wav')]\n",
    "\n",
    "\n",
    "# Make sure output folder exists\n",
    "os.makedirs(output_Augmentation, exist_ok=True)\n",
    "\n",
    "input_files = [f for f in os.listdir(input_folder) if f.endswith('.wav')]\n",
    "\n",
    "for i, input_file in enumerate(input_files):\n",
    "    input_path = os.path.join(input_folder, input_file)\n",
    "\n",
    "    audio = AudioSegment.from_wav(input_path)\n",
    "\n",
    "    # Change volume\n",
    "    gain = random.uniform(-10, 10)  # Random gain between -10dB and 10dB\n",
    "    audio = audio + gain\n",
    "\n",
    "    # Change pitch\n",
    "    pitch_factor = random.uniform(0.9, 1.1)  # Random pitch factor between 0.9 and 1.1\n",
    "    audio = speedup(audio, playback_speed=pitch_factor)\n",
    "\n",
    "    # Add background noise\n",
    "    noise_file = random.choice(noise_files)\n",
    "    noise_path = os.path.join(noise_folder, noise_file)\n",
    "    noise = AudioSegment.from_wav(noise_path)\n",
    "    noise = noise - 20  # Reduce noise volume\n",
    "    audio = audio.overlay(noise)\n",
    "\n",
    "\n",
    "    # Time stretching\n",
    "    stretch_factor = random.uniform(0.9, 1.1)  # Random stretch factor between 0.9 and 1.1\n",
    "    audio = audio.set_frame_rate(int(audio.frame_rate * stretch_factor))\n",
    "\n",
    "    # Reverse audio\n",
    "    if random.random() < 0.5:  # 50% chance of reversing audio\n",
    "        audio = audio.reverse()\n",
    "\n",
    "    # Save the augmented audio to the output folder\n",
    "    output_path = os.path.join(output_Augmentation, f'augmented_{i}.wav')\n",
    "    audio.export(output_path, format='wav')\n",
    "\n",
    "print(f'Augmented audio files saved in {output_Augmentation}')"
   ],
   "metadata": {
    "collapsed": false,
    "ExecuteTime": {
     "start_time": "2023-04-27T00:17:04.812598Z",
     "end_time": "2023-04-27T00:17:34.642947Z"
    }
   }
  },
  {
   "cell_type": "code",
   "execution_count": 19,
   "outputs": [
    {
     "name": "stdout",
     "output_type": "stream",
     "text": [
      "Silence audio file saved at /Users/zainhazzouri/projects/Bachelor_Thesis/Data/Kaggle/silence_wav/silence.wav\n"
     ]
    }
   ],
   "source": [],
   "metadata": {
    "collapsed": false,
    "ExecuteTime": {
     "start_time": "2023-04-17T16:42:32.530018Z",
     "end_time": "2023-04-17T16:42:32.537552Z"
    }
   }
  }
 ],
 "metadata": {
  "kernelspec": {
   "display_name": "Python 3",
   "language": "python",
   "name": "python3"
  },
  "language_info": {
   "codemirror_mode": {
    "name": "ipython",
    "version": 2
   },
   "file_extension": ".py",
   "mimetype": "text/x-python",
   "name": "python",
   "nbconvert_exporter": "python",
   "pygments_lexer": "ipython2",
   "version": "2.7.6"
  }
 },
 "nbformat": 4,
 "nbformat_minor": 0
}
