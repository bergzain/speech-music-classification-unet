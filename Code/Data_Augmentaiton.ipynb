{
 "cells": [
  {
   "cell_type": "code",
   "execution_count": 9,
   "metadata": {
    "collapsed": true,
    "ExecuteTime": {
     "end_time": "2023-05-12T18:21:37.263185Z",
     "start_time": "2023-05-12T18:21:37.260136Z"
    }
   },
   "outputs": [],
   "source": [
    "import os\n",
    "from pydub import AudioSegment\n",
    "import random\n",
    "from pydub.playback import play\n",
    "from pydub.effects import speedup\n",
    "import shutil\n",
    "import numpy as np\n",
    "from sklearn.model_selection import train_test_split\n",
    "import glob\n",
    "\n"
   ]
  },
  {
   "cell_type": "code",
   "execution_count": 5,
   "outputs": [],
   "source": [
    "music_folder = \"\"\n",
    "speech_folder = \"\"\n",
    "output_Mix = \"\"\n"
   ],
   "metadata": {
    "collapsed": false,
    "ExecuteTime": {
     "end_time": "2023-05-12T18:03:32.327634Z",
     "start_time": "2023-05-12T18:03:32.324691Z"
    }
   }
  },
  {
   "cell_type": "code",
   "execution_count": 6,
   "outputs": [
    {
     "name": "stdout",
     "output_type": "stream",
     "text": [
      "Mixed audio files saved in /Users/zainhazzouri/projects/Bachelor_Thesis/Data/Kaggle/Mix_wav\n"
     ]
    }
   ],
   "source": [
    "## Create a mix of music and speech\n",
    "\n",
    "# Make sure output folder exists\n",
    "os.makedirs(output_Mix, exist_ok=True)\n",
    "\n",
    "music_files = [f for f in os.listdir(music_folder) if f.endswith('.wav')]\n",
    "speech_files = [f for f in os.listdir(speech_folder) if f.endswith('.wav')]\n",
    "\n",
    "for i, (music_file, speech_file) in enumerate(zip(music_files, speech_files)):\n",
    "    music_path = os.path.join(music_folder, music_file)\n",
    "    speech_path = os.path.join(speech_folder, speech_file)\n",
    "\n",
    "    music = AudioSegment.from_wav(music_path)\n",
    "    speech = AudioSegment.from_wav(speech_path)\n",
    "\n",
    "    # Mix the two audio files (adjust the volumes if needed)\n",
    "    mixed = music.overlay(speech)\n",
    "\n",
    "    # Save the mixed audio to the output folder\n",
    "    output_path = os.path.join(output_Mix, f'mixed_{i}.wav')\n",
    "    mixed.export(output_path, format='wav')\n",
    "\n",
    "print(f'Mixed audio files saved in {output_Mix}')\n"
   ],
   "metadata": {
    "collapsed": false,
    "ExecuteTime": {
     "end_time": "2023-05-12T18:03:33.174766Z",
     "start_time": "2023-05-12T18:03:33.168225Z"
    }
   }
  },
  {
   "cell_type": "code",
   "execution_count": null,
   "outputs": [],
   "source": [
    "## separate the data into train and test, then save them in separate folders\n",
    "\n",
    "# Define the folders\n",
    "folders = ['music_wav', 'speech_wav', 'Mix_wav']\n",
    "\n",
    "# Define the root directory where the folders are located\n",
    "root_directory = \"/Users/zainhazzouri/projects/Bachelor_Thesis/Data/Kaggle\"\n",
    "\n",
    "# Define the directories for the train and test sets\n",
    "train_directory = os.path.join(root_directory, 'train')\n",
    "test_directory = os.path.join(root_directory, 'test')\n",
    "\n",
    "# Create the train and test directories if they do not exist\n",
    "os.makedirs(train_directory, exist_ok=True)\n",
    "os.makedirs(test_directory, exist_ok=True)\n",
    "\n",
    "# Define the test size\n",
    "test_size = 0.2  # 20% for testing, adjust as needed\n",
    "\n",
    "# Loop over the folders and split the files into train and test sets\n",
    "for folder in folders:\n",
    "    # Get the full paths to the source folder, and the train and test target folders\n",
    "    source_folder = os.path.join(root_directory, folder)\n",
    "    train_folder = os.path.join(train_directory, folder)\n",
    "    test_folder = os.path.join(test_directory, folder)\n",
    "\n",
    "    # Get a list of all files in the source folder\n",
    "    files = os.listdir(source_folder)\n",
    "\n",
    "    # Split the files into train and test sets\n",
    "    train_files, test_files = train_test_split(files, test_size=test_size)\n",
    "\n",
    "    # Create the train and test folders if they do not exist\n",
    "    os.makedirs(train_folder, exist_ok=True)\n",
    "    os.makedirs(test_folder, exist_ok=True)\n",
    "\n",
    "    # Move the train files to the train folder\n",
    "    for file in train_files:\n",
    "        shutil.move(os.path.join(source_folder, file), os.path.join(train_folder, file))\n",
    "\n",
    "    # Move the test files to the test folder\n",
    "    for file in test_files:\n",
    "        shutil.move(os.path.join(source_folder, file), os.path.join(test_folder, file))\n"
   ],
   "metadata": {
    "collapsed": false
   }
  },
  {
   "cell_type": "code",
   "execution_count": 10,
   "outputs": [
    {
     "name": "stdout",
     "output_type": "stream",
     "text": [
      "Augmented audio files saved in /Users/zainhazzouri/projects/Bachelor_Thesis/Data/train/music_wav\n",
      "Augmented audio files saved in /Users/zainhazzouri/projects/Bachelor_Thesis/Data/train/speech_wav\n",
      "Augmented audio files saved in /Users/zainhazzouri/projects/Bachelor_Thesis/Data/train/Mix_wav\n"
     ]
    }
   ],
   "source": [
    "## preform data augmentation\n",
    "\n",
    "# Root directory where the train folders are located\n",
    "root_directory = \"/Users/zainhazzouri/projects/Bachelor_Thesis/Data/train\"\n",
    "\n",
    "noise_folder = \"/Users/zainhazzouri/projects/Bachelor_Thesis/Data/Kaggle/Noise\"\n",
    "noise_files = glob.glob(os.path.join(noise_folder, '*.wav'))\n",
    "\n",
    "\n",
    "\n",
    "for folder in folders:\n",
    "    # Full path to the input folder\n",
    "    input_folder = os.path.join(root_directory, folder)\n",
    "\n",
    "    # Get a list of all the audio files in the input folder\n",
    "    input_files = glob.glob(os.path.join(input_folder, '*.wav'))\n",
    "\n",
    "    for i, input_file in enumerate(input_files):\n",
    "        audio = AudioSegment.from_wav(input_file)\n",
    "\n",
    "        # Change volume\n",
    "        gain = random.uniform(-10, 10)  # Random gain between -10dB and 10dB\n",
    "        audio = audio + gain\n",
    "        audio.export(os.path.join(input_folder, f'augmented_{i}_gain.wav'), format='wav')\n",
    "\n",
    "        # Change pitch\n",
    "        pitch_factor = random.uniform(0.9, 1.1)  # Random pitch factor between 0.9 and 1.1\n",
    "        audio = speedup(audio, playback_speed=pitch_factor)\n",
    "        audio.export(os.path.join(input_folder, f'augmented_{i}_pitch.wav'), format='wav')\n",
    "\n",
    "        # Add background noise\n",
    "        noise_file = random.choice(noise_files)\n",
    "        noise = AudioSegment.from_wav(noise_file)\n",
    "        noise = noise - 20  # Reduce noise volume\n",
    "        audio = audio.overlay(noise)\n",
    "        audio.export(os.path.join(input_folder, f'augmented_{i}_noise.wav'), format='wav')\n",
    "\n",
    "        # Time stretching\n",
    "        stretch_factor = random.uniform(0.9, 1.1)  # Random stretch factor between 0.9 and 1.1\n",
    "        audio = audio.set_frame_rate(int(audio.frame_rate * stretch_factor))\n",
    "        audio.export(os.path.join(input_folder, f'augmented_{i}_stretch.wav'), format='wav')\n",
    "\n",
    "        # Reverse audio\n",
    "        if random.random() < 0.5:  # 50% chance of reversing audio\n",
    "            audio = audio.reverse()\n",
    "            audio.export(os.path.join(input_folder, f'augmented_{i}_reverse.wav'), format='wav')\n",
    "\n",
    "    print(f'Augmented audio files saved in {input_folder}')"
   ],
   "metadata": {
    "collapsed": false,
    "ExecuteTime": {
     "end_time": "2023-05-12T18:22:48.325175Z",
     "start_time": "2023-05-12T18:21:40.366159Z"
    }
   }
  },
  {
   "cell_type": "code",
   "execution_count": 19,
   "outputs": [
    {
     "name": "stdout",
     "output_type": "stream",
     "text": [
      "Silence audio file saved at /Users/zainhazzouri/projects/Bachelor_Thesis/Data/Kaggle/silence_wav/silence.wav\n"
     ]
    }
   ],
   "source": [],
   "metadata": {
    "collapsed": false,
    "ExecuteTime": {
     "start_time": "2023-04-17T16:42:32.530018Z",
     "end_time": "2023-04-17T16:42:32.537552Z"
    }
   }
  }
 ],
 "metadata": {
  "kernelspec": {
   "display_name": "Python 3",
   "language": "python",
   "name": "python3"
  },
  "language_info": {
   "codemirror_mode": {
    "name": "ipython",
    "version": 2
   },
   "file_extension": ".py",
   "mimetype": "text/x-python",
   "name": "python",
   "nbconvert_exporter": "python",
   "pygments_lexer": "ipython2",
   "version": "2.7.6"
  }
 },
 "nbformat": 4,
 "nbformat_minor": 0
}
