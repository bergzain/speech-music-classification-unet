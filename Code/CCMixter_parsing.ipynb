{
 "cells": [
  {
   "cell_type": "code",
   "execution_count": null,
   "id": "initial_id",
   "metadata": {
    "collapsed": true
   },
   "outputs": [],
   "source": []
  },
  {
   "cell_type": "code",
   "execution_count": 3,
   "outputs": [],
   "source": [
    "import os\n",
    "\n",
    "def rename_files_in_dir(main_dir):\n",
    "    for subdir in os.listdir(main_dir):\n",
    "        subdir_path = os.path.join(main_dir, subdir)\n",
    "        if os.path.isdir(subdir_path):  # check if it's a directory\n",
    "            for filename in os.listdir(subdir_path):\n",
    "                if filename.endswith('.wav'):\n",
    "                    subdir_name = subdir.replace(' ', '_')  # replace spaces with underscores\n",
    "                    if 'mix.wav' in filename:\n",
    "                        new_name = f'{subdir_name}-mix.wav'\n",
    "                    elif 'source-01.wav' in filename:\n",
    "                        new_name = f'{subdir_name}-music.wav'\n",
    "                    elif 'source-02.wav' in filename:\n",
    "                        new_name = f'{subdir_name}-voice.wav'\n",
    "                    else:\n",
    "                        continue  # Skip files not matching the pattern\n",
    "                    src = os.path.join(subdir_path, filename)  # Full path to the file (old name)\n",
    "                    dst = os.path.join(subdir_path, new_name)  # Full path to the file (new name)\n",
    "                    os.rename(src, dst)  # Rename the file\n",
    "\n",
    "\n",
    "rename_files_in_dir(\"/Users/zainhazzouri/projects/Bachelor_Thesis/Data/ccmixter_corpus\")\n"
   ],
   "metadata": {
    "collapsed": false,
    "ExecuteTime": {
     "end_time": "2023-08-01T13:33:50.922630Z",
     "start_time": "2023-08-01T13:33:50.914625Z"
    }
   },
   "id": "5ceec8de13302492"
  },
  {
   "cell_type": "code",
   "execution_count": 5,
   "outputs": [
    {
     "name": "stdout",
     "output_type": "stream",
     "text": [
      "tmray_-_Forget_It_-_Demo\n",
      "stellarartwars_-_Amy_Winehouse_Blues_(stems)\n",
      "geertveneklaas_-_Blue_Boy\n",
      "VJ_Memes_-_What_Child_is_This_(With_Admiral_Bob)\n",
      "unreal_dm_-_Just_Beginning\n",
      "stellarartwars_-_Human_Race_(A_Rotten_Race_For_Elvis_Mix)_inc_stems\n",
      "doxent_-_Alice_In_the_City\n",
      "stellarartwars_-_To_Be_Sensitive_(inc_stems)\n",
      ".DS_Store\n",
      "AlexBeroza_-_To_Be_Sensitive_(with_mindmapthat)\n",
      "Per_-_Orange_(Room_29_MMXIII)\n",
      "casimps1_-_Itsy_Bitsy_Spider\n",
      "stellarartwars_-_Square_Bidness_(SAW_Rapperboy_Mix)_stems\n",
      "stellarartwars_-_Lucky_Boy_(Rampton_Hill_Mix)_inc_stems\n",
      "stellarartwars_-_On_A_Silent_Night\n",
      "unreal_dm_-_Jerusalem\n",
      "stellarartwars_-_Music\n",
      "unreal_dm_-_Californian_Winter\n",
      "Kamihamiha_-_A_Spatial_Voyage_From_A_To_B_(Stems)\n",
      "stellarartwars_-_I_Will_Follow_(Rachel_s_Revenge_Mix)_inc_stems\n",
      "stellarartwars_-_Finally_Found_(Dense_Robin_Mix)\n",
      "casimps1_-_Twinkle_Twinkle_Little_Star\n",
      "stellarartwars_-_Sweet_Seduction_2_(Romilar_Mix)\n",
      "stellarartwars_-_Emma_(Barnstormer_Mix)_inc_stems\n",
      "mindmapthat_-_Not_So_Happy_Holidays\n",
      "tmray_-_Roulette\n",
      "README\n",
      "stellarartwars_-_Occupy_Walk_(Molested_Mix)\n",
      "Javolenus_-_King_Henry_(Border_Ballad)\n",
      "Javolenus_-_You_Don_t_Get_In_Touch_Anymore\n",
      "stellarartwars_-_Love_Liberation_(inc_stems)\n",
      "stellarartwars_-_A_Forest_(Crimson_Lizard_Mix)_stems\n",
      "stellarartwars_-_Perfectly_4_U_(rough_stems)\n",
      "stellarartwars_-_black_swan_(10_out_of_10_mix)_stems\n",
      "stellarartwars_-_Bird_(_stems)\n",
      "unreal_dm_-_Big_John (with_snowflake)\n",
      "stellarartwars_-_Go_Time_(scratched_perversion_mix)_inc_stems\n",
      "Nikmusik_-_Little_White_Lies\n",
      "mindmapthat_-_The_Scuffle_of_Mouth_Sounds_and_the_Magnificent_Uke\n",
      "VonKorf_-_Marktversagen\n",
      "Kamihamiha_-_Kamihamiha_-_No_Peace_For_The_Middle_East_(Full_Stems)\n",
      "casimps1_-_Bingo_(B-I-N-G-O)\n",
      "Kamihamiha_-_Kamihamiha_-_Trash_The_Disco_(Stems)\n",
      "stellarartwars_-_Elements_(_stems)\n",
      "copperhead_-_Need_You_Baby\n",
      "Mr_Yesterday_-_King_Richard_s_Blues_(harp_added)\n",
      "casimps1_-_Could_Be\n",
      "stellarartwars_-_Pheromones_(slightly_retro_happy_mix)_stems\n",
      "stellarartwars_-_Breakdown_Boy_(SAW_mix)\n",
      "stellarartwars_-_Dollar_(Nice_Spicy_Mix)_stems\n",
      "stellarartwars_-_Winter_Glow_(SAW_liquid_d_b_mix)\n",
      "stellarartwars_-_Orange_(I_m_In_The_Mood_For_Trancing_Mix)\n"
     ]
    }
   ],
   "source": [
    "import os\n",
    "import shutil\n",
    "import random\n",
    "\n",
    "# Path to the main directory where your subdirectories are located\n",
    "main_dir = '/Users/zainhazzouri/projects/Bachelor_Thesis/Data/ccmixter_corpus'\n",
    "\n",
    "# Your folder paths\n",
    "train_mix = \"/Users/zainhazzouri/projects/Bachelor_Thesis/Data/train/Mix_wav\"\n",
    "train_music = \"/Users/zainhazzouri/projects/Bachelor_Thesis/Data/train/music_wav\"\n",
    "train_speech = \"/Users/zainhazzouri/projects/Bachelor_Thesis/Data/train/speech_wav\"\n",
    "\n",
    "test_mix = \"/Users/zainhazzouri/projects/Bachelor_Thesis/Data/test/Mix_wav\"\n",
    "test_music= \"/Users/zainhazzouri/projects/Bachelor_Thesis/Data/test/music_wav\"\n",
    "test_speech = \"/Users/zainhazzouri/projects/Bachelor_Thesis/Data/test/speech_wav\"\n",
    "\n",
    "# Iterate over subdirectories\n",
    "for subdir in os.listdir(main_dir):\n",
    "    print(subdir)\n",
    "    subdir_path = os.path.join(main_dir, subdir)\n",
    "    if os.path.isdir(subdir_path):  \n",
    "        files = [f for f in os.listdir(subdir_path) if f.endswith('.wav')]\n",
    "        random.shuffle(files)  # Shuffle the file order\n",
    "\n",
    "        # Split into train and test sets\n",
    "        train_files = files[:int(len(files)*0.8)]  # 80% of files\n",
    "        test_files = files[int(len(files)*0.8):]  # Remaining 20% of files\n",
    "\n",
    "        # Move train files\n",
    "        for f in train_files:\n",
    "            src = os.path.join(subdir_path, f)\n",
    "            if '-mix.wav' in f:\n",
    "                dst = os.path.join(train_mix, f)\n",
    "            elif '-music.wav' in f:\n",
    "                dst = os.path.join(train_music, f)\n",
    "            elif '-voice.wav' in f:\n",
    "                dst = os.path.join(train_speech, f)\n",
    "            shutil.move(src, dst)\n",
    "\n",
    "        # Move test files\n",
    "        for f in test_files:\n",
    "            src = os.path.join(subdir_path, f)\n",
    "            if '-mix.wav' in f:\n",
    "                dst = os.path.join(test_mix, f)\n",
    "            elif '-music.wav' in f:\n",
    "                dst = os.path.join(test_music, f)\n",
    "            elif '-voice.wav' in f:\n",
    "                dst = os.path.join(test_speech, f)\n",
    "            shutil.move(src, dst)\n"
   ],
   "metadata": {
    "collapsed": false,
    "ExecuteTime": {
     "end_time": "2023-08-01T13:41:50.798706Z",
     "start_time": "2023-08-01T13:41:50.793026Z"
    }
   },
   "id": "6c45f137969cb710"
  },
  {
   "cell_type": "code",
   "execution_count": null,
   "outputs": [],
   "source": [],
   "metadata": {
    "collapsed": false
   },
   "id": "aa4de97fb24c37f1"
  }
 ],
 "metadata": {
  "kernelspec": {
   "display_name": "Python 3",
   "language": "python",
   "name": "python3"
  },
  "language_info": {
   "codemirror_mode": {
    "name": "ipython",
    "version": 2
   },
   "file_extension": ".py",
   "mimetype": "text/x-python",
   "name": "python",
   "nbconvert_exporter": "python",
   "pygments_lexer": "ipython2",
   "version": "2.7.6"
  }
 },
 "nbformat": 4,
 "nbformat_minor": 5
}
