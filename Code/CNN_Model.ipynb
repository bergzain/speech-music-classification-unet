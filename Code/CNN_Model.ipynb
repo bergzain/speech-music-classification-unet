{
 "cells": [
  {
   "cell_type": "code",
   "execution_count": 24,
   "outputs": [],
   "source": [
    "import torch\n",
    "import torch.nn as nn\n",
    "import torch.nn.functional as F\n",
    "from torch.autograd import Variable\n",
    "import unittest\n"
   ],
   "metadata": {
    "collapsed": false,
    "ExecuteTime": {
     "start_time": "2023-04-15T15:09:01.007053Z",
     "end_time": "2023-04-15T15:09:01.011472Z"
    }
   }
  },
  {
   "cell_type": "code",
   "execution_count": 25,
   "outputs": [],
   "source": [
    "class SelfAttention(nn.Module):\n",
    "    def __init__(self, in_channels):\n",
    "        super(SelfAttention, self).__init__()\n",
    "        self.query = nn.Conv2d(in_channels, in_channels//8, 1)\n",
    "        self.key = nn.Conv2d(in_channels, in_channels//8, 1)\n",
    "        self.value = nn.Conv2d(in_channels, in_channels, 1)\n",
    "        self.gamma = nn.Parameter(torch.zeros(1))\n",
    "\n",
    "    def forward(self, x):\n",
    "        batch_size, channels, height, width = x.size()\n",
    "        query = self.query(x).view(batch_size, -1, height * width).permute(0, 2, 1)\n",
    "        key = self.key(x).view(batch_size, -1, height * width)\n",
    "        attention = F.softmax(torch.bmm(query, key), dim=-1)\n",
    "        value = self.value(x).view(batch_size, -1, height * width)\n",
    "        out = torch.bmm(value, attention.permute(0, 2, 1)).view(batch_size, channels, height, width)\n",
    "        out = self.gamma * out + x\n",
    "\n",
    "        return out"
   ],
   "metadata": {
    "collapsed": false,
    "ExecuteTime": {
     "start_time": "2023-04-15T15:09:01.300681Z",
     "end_time": "2023-04-15T15:09:01.303516Z"
    }
   }
  },
  {
   "cell_type": "code",
   "execution_count": 26,
   "outputs": [
    {
     "name": "stderr",
     "output_type": "stream",
     "text": [
      "...\n",
      "----------------------------------------------------------------------\n",
      "Ran 3 tests in 0.013s\n",
      "\n",
      "OK\n"
     ]
    }
   ],
   "source": [
    "class TestSelfAttention(unittest.TestCase):\n",
    "    def test_forward_pass(self):\n",
    "        batch_size = 4\n",
    "        in_channels = 16\n",
    "        height = 32\n",
    "        width = 32\n",
    "\n",
    "        # Instantiate the SelfAttention module\n",
    "        self_attention = SelfAttention(in_channels)\n",
    "\n",
    "        # Create a random input tensor of shape (batch_size, in_channels, height, width)\n",
    "        x = Variable(torch.rand(batch_size, in_channels, height, width))\n",
    "\n",
    "        # Perform a forward pass through the SelfAttention module\n",
    "        out = self_attention(x)\n",
    "\n",
    "        # Check if the output has the same shape as the input tensor\n",
    "        self.assertEqual(out.shape, (batch_size, in_channels, height, width))\n",
    "\n",
    "    def test_gamma_parameter(self):\n",
    "        in_channels = 16\n",
    "        self_attention = SelfAttention(in_channels)\n",
    "        gamma = self_attention.gamma.item()\n",
    "\n",
    "        # Check if the initial value of gamma is 0\n",
    "        self.assertEqual(gamma, 0)\n",
    "\n",
    "    def test_query_key_value_shapes(self):\n",
    "        in_channels = 16\n",
    "        self_attention = SelfAttention(in_channels)\n",
    "\n",
    "        # Check if the query, key, and value layers have the correct shapes\n",
    "        self.assertEqual(self_attention.query.weight.shape, (in_channels // 8, in_channels, 1, 1))\n",
    "        self.assertEqual(self_attention.key.weight.shape, (in_channels // 8, in_channels, 1, 1))\n",
    "        self.assertEqual(self_attention.value.weight.shape, (in_channels, in_channels, 1, 1))\n",
    "\n",
    "\n",
    "if __name__ == '__main__':\n",
    "    unittest.main(argv=['first-arg-is-ignored'], exit=False)"
   ],
   "metadata": {
    "collapsed": false,
    "ExecuteTime": {
     "start_time": "2023-04-15T15:09:01.830480Z",
     "end_time": "2023-04-15T15:09:01.862223Z"
    }
   }
  },
  {
   "cell_type": "code",
   "execution_count": 19,
   "outputs": [],
   "source": [
    "class EncoderBlock(nn.Module):\n",
    "    def __init__(self, in_channels, out_channels):\n",
    "        super(EncoderBlock, self).__init__()\n",
    "        self.conv = nn.Conv2d(in_channels, out_channels, kernel_size=3, padding=1)\n",
    "        self.bn = nn.BatchNorm2d(out_channels)\n",
    "        self.relu = nn.ReLU(inplace=True)\n",
    "\n",
    "    def forward(self, x):\n",
    "        x = self.conv(x)\n",
    "        x = self.bn(x)\n",
    "        x = self.relu(x)\n",
    "        return x"
   ],
   "metadata": {
    "collapsed": false,
    "ExecuteTime": {
     "start_time": "2023-04-15T15:06:55.320788Z",
     "end_time": "2023-04-15T15:06:55.325074Z"
    }
   }
  },
  {
   "cell_type": "code",
   "execution_count": 20,
   "outputs": [],
   "source": [
    "class DecoderBlock(nn.Module):\n",
    "    def __init__(self, in_channels, out_channels):\n",
    "        super(DecoderBlock, self).__init__()\n",
    "        self.conv = nn.ConvTranspose2d(in_channels, out_channels, kernel_size=3, padding=1)\n",
    "        self.bn = nn.BatchNorm2d(out_channels)\n",
    "        self.relu = nn.ReLU(inplace=True)\n",
    "\n",
    "    def forward(self, x):\n",
    "        x = self.conv(x)\n",
    "        x = self.bn(x)\n",
    "        x = self.relu(x)\n",
    "        return x"
   ],
   "metadata": {
    "collapsed": false,
    "ExecuteTime": {
     "start_time": "2023-04-15T15:06:55.835832Z",
     "end_time": "2023-04-15T15:06:55.838751Z"
    }
   }
  },
  {
   "cell_type": "code",
   "execution_count": 21,
   "outputs": [],
   "source": [
    "class AttentionResidualWaveUNet(nn.Module):\n",
    "    def __init__(self, in_channels=1):\n",
    "        super(AttentionResidualWaveUNet, self).__init__()\n",
    "\n",
    "        # Encoder\n",
    "        self.enc1 = EncoderBlock(in_channels, 64)\n",
    "        self.pool1 = nn.MaxPool2d(2)\n",
    "        self.enc2 = EncoderBlock(64, 128)\n",
    "        self.pool2 = nn.MaxPool2d(2)\n",
    "        self.enc3 = EncoderBlock(128, 256)\n",
    "        self.pool3 = nn.MaxPool2d(2)\n",
    "\n",
    "        # Middle\n",
    "        self.middle = EncoderBlock(256, 512)\n",
    "        self.attention = SelfAttention(512)\n",
    "\n",
    "        # Decoder\n",
    "        self.up3 = nn.ConvTranspose2d(512, 256, kernel_size=2, stride=2)\n",
    "        self.dec3 = DecoderBlock(256*2, 128)\n",
    "        self.up2 = nn.ConvTranspose2d(128, 128, kernel_size=2, stride=2, output_padding=1)  # Add output_padding\n",
    "        self.dec2 = DecoderBlock(128*2, 64)\n",
    "        self.up1 = nn.ConvTranspose2d(64, 64, kernel_size=2, stride=2)\n",
    "        self.dec1 = DecoderBlock(64*2, 1)\n",
    "\n",
    "    def forward(self, x):\n",
    "        # Encoder\n",
    "        enc1 = self.enc1(x)\n",
    "        pool1 = self.pool1(enc1)\n",
    "        enc2 = self.enc2(pool1)\n",
    "        pool2 = self.pool2(enc2)\n",
    "        enc3 = self.enc3(pool2)\n",
    "        pool3 = self.pool3(enc3)\n",
    "\n",
    "        # Middle\n",
    "        middle = self.middle(pool3)\n",
    "        attention_out = self.attention(middle)\n",
    "\n",
    "        # Decoder\n",
    "        up3 = self.up3(attention_out)\n",
    "        merge3 = torch.cat([up3, enc3], dim=1)\n",
    "        dec3 = self.dec3(merge3)\n",
    "        up2 = self.up2(dec3)\n",
    "        merge2 = torch.cat([up2, enc2], dim=1)\n",
    "        dec2 = self.dec2(merge2)\n",
    "        up1 = self.up1(dec2)\n",
    "        merge1 = torch.cat([up1, enc1], dim=1)\n",
    "        dec1 = self.dec1(merge1)\n",
    "\n",
    "        return dec1"
   ],
   "metadata": {
    "collapsed": false,
    "ExecuteTime": {
     "start_time": "2023-04-15T15:06:56.210427Z",
     "end_time": "2023-04-15T15:06:56.214956Z"
    }
   }
  },
  {
   "cell_type": "code",
   "execution_count": 22,
   "outputs": [
    {
     "ename": "RuntimeError",
     "evalue": "Sizes of tensors must match except in dimension 1. Expected size 65 but got size 64 for tensor number 1 in the list.",
     "output_type": "error",
     "traceback": [
      "\u001B[0;31m---------------------------------------------------------------------------\u001B[0m",
      "\u001B[0;31mRuntimeError\u001B[0m                              Traceback (most recent call last)",
      "Cell \u001B[0;32mIn[22], line 5\u001B[0m\n\u001B[1;32m      3\u001B[0m model \u001B[38;5;241m=\u001B[39m AttentionResidualWaveUNet()\n\u001B[1;32m      4\u001B[0m x \u001B[38;5;241m=\u001B[39m torch\u001B[38;5;241m.\u001B[39mrandn(\u001B[38;5;241m1\u001B[39m, \u001B[38;5;241m1\u001B[39m, \u001B[38;5;241m128\u001B[39m, \u001B[38;5;241m128\u001B[39m)\n\u001B[0;32m----> 5\u001B[0m y \u001B[38;5;241m=\u001B[39m \u001B[43mmodel\u001B[49m\u001B[43m(\u001B[49m\u001B[43mx\u001B[49m\u001B[43m)\u001B[49m\n\u001B[1;32m      6\u001B[0m \u001B[38;5;28mprint\u001B[39m(y\u001B[38;5;241m.\u001B[39mshape)\n",
      "File \u001B[0;32m~/miniforge3/envs/Bachelor_Thesis/lib/python3.8/site-packages/torch/nn/modules/module.py:1501\u001B[0m, in \u001B[0;36mModule._call_impl\u001B[0;34m(self, *args, **kwargs)\u001B[0m\n\u001B[1;32m   1496\u001B[0m \u001B[38;5;66;03m# If we don't have any hooks, we want to skip the rest of the logic in\u001B[39;00m\n\u001B[1;32m   1497\u001B[0m \u001B[38;5;66;03m# this function, and just call forward.\u001B[39;00m\n\u001B[1;32m   1498\u001B[0m \u001B[38;5;28;01mif\u001B[39;00m \u001B[38;5;129;01mnot\u001B[39;00m (\u001B[38;5;28mself\u001B[39m\u001B[38;5;241m.\u001B[39m_backward_hooks \u001B[38;5;129;01mor\u001B[39;00m \u001B[38;5;28mself\u001B[39m\u001B[38;5;241m.\u001B[39m_backward_pre_hooks \u001B[38;5;129;01mor\u001B[39;00m \u001B[38;5;28mself\u001B[39m\u001B[38;5;241m.\u001B[39m_forward_hooks \u001B[38;5;129;01mor\u001B[39;00m \u001B[38;5;28mself\u001B[39m\u001B[38;5;241m.\u001B[39m_forward_pre_hooks\n\u001B[1;32m   1499\u001B[0m         \u001B[38;5;129;01mor\u001B[39;00m _global_backward_pre_hooks \u001B[38;5;129;01mor\u001B[39;00m _global_backward_hooks\n\u001B[1;32m   1500\u001B[0m         \u001B[38;5;129;01mor\u001B[39;00m _global_forward_hooks \u001B[38;5;129;01mor\u001B[39;00m _global_forward_pre_hooks):\n\u001B[0;32m-> 1501\u001B[0m     \u001B[38;5;28;01mreturn\u001B[39;00m \u001B[43mforward_call\u001B[49m\u001B[43m(\u001B[49m\u001B[38;5;241;43m*\u001B[39;49m\u001B[43margs\u001B[49m\u001B[43m,\u001B[49m\u001B[43m \u001B[49m\u001B[38;5;241;43m*\u001B[39;49m\u001B[38;5;241;43m*\u001B[39;49m\u001B[43mkwargs\u001B[49m\u001B[43m)\u001B[49m\n\u001B[1;32m   1502\u001B[0m \u001B[38;5;66;03m# Do not call functions when jit is used\u001B[39;00m\n\u001B[1;32m   1503\u001B[0m full_backward_hooks, non_full_backward_hooks \u001B[38;5;241m=\u001B[39m [], []\n",
      "Cell \u001B[0;32mIn[21], line 43\u001B[0m, in \u001B[0;36mAttentionResidualWaveUNet.forward\u001B[0;34m(self, x)\u001B[0m\n\u001B[1;32m     41\u001B[0m dec3 \u001B[38;5;241m=\u001B[39m \u001B[38;5;28mself\u001B[39m\u001B[38;5;241m.\u001B[39mdec3(merge3)\n\u001B[1;32m     42\u001B[0m up2 \u001B[38;5;241m=\u001B[39m \u001B[38;5;28mself\u001B[39m\u001B[38;5;241m.\u001B[39mup2(dec3)\n\u001B[0;32m---> 43\u001B[0m merge2 \u001B[38;5;241m=\u001B[39m \u001B[43mtorch\u001B[49m\u001B[38;5;241;43m.\u001B[39;49m\u001B[43mcat\u001B[49m\u001B[43m(\u001B[49m\u001B[43m[\u001B[49m\u001B[43mup2\u001B[49m\u001B[43m,\u001B[49m\u001B[43m \u001B[49m\u001B[43menc2\u001B[49m\u001B[43m]\u001B[49m\u001B[43m,\u001B[49m\u001B[43m \u001B[49m\u001B[43mdim\u001B[49m\u001B[38;5;241;43m=\u001B[39;49m\u001B[38;5;241;43m1\u001B[39;49m\u001B[43m)\u001B[49m\n\u001B[1;32m     44\u001B[0m dec2 \u001B[38;5;241m=\u001B[39m \u001B[38;5;28mself\u001B[39m\u001B[38;5;241m.\u001B[39mdec2(merge2)\n\u001B[1;32m     45\u001B[0m up1 \u001B[38;5;241m=\u001B[39m \u001B[38;5;28mself\u001B[39m\u001B[38;5;241m.\u001B[39mup1(dec2)\n",
      "\u001B[0;31mRuntimeError\u001B[0m: Sizes of tensors must match except in dimension 1. Expected size 65 but got size 64 for tensor number 1 in the list."
     ]
    }
   ],
   "source": [
    "# Test the model\n",
    "if __name__ == \"__main__\":\n",
    "    model = AttentionResidualWaveUNet()\n",
    "    x = torch.randn(1, 1, 128, 128)\n",
    "    y = model(x)\n",
    "    print(y.shape)"
   ],
   "metadata": {
    "collapsed": false
   }
  },
  {
   "cell_type": "code",
   "execution_count": null,
   "outputs": [],
   "source": [],
   "metadata": {
    "collapsed": false
   }
  }
 ],
 "metadata": {
  "kernelspec": {
   "display_name": "Python 3",
   "language": "python",
   "name": "python3"
  },
  "language_info": {
   "codemirror_mode": {
    "name": "ipython",
    "version": 2
   },
   "file_extension": ".py",
   "mimetype": "text/x-python",
   "name": "python",
   "nbconvert_exporter": "python",
   "pygments_lexer": "ipython2",
   "version": "2.7.6"
  }
 },
 "nbformat": 4,
 "nbformat_minor": 0
}
