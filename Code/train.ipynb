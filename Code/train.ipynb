{
 "cells": [
  {
   "cell_type": "code",
   "execution_count": 19,
   "outputs": [],
   "source": [
    "# AUDIO_DIR = \"/Users/zainhazzouri/projects/Bachelor_Thesis/Data/Kaggle/\"\n",
    "SAMPLE_RATE = 22050 # sample rate of the audio file\n",
    "bit_depth = 16 # bit depth of the audio file\n",
    "hop_length = 512\n",
    "n_mfcc =  20 # number of MFCCs features\n",
    "n_fft=1024, # window size\n",
    "n_mels = 256 # number of mel bands to generate\n",
    "win_length = None # window length\n",
    "\n",
    "\n",
    "# Training parameters\n",
    "batch_size = 128\n",
    "learning_rate = 0.001\n",
    "num_epochs = 20\n",
    "\n",
    "\n"
   ],
   "metadata": {
    "collapsed": false,
    "ExecuteTime": {
     "end_time": "2023-05-27T20:05:08.964121Z",
     "start_time": "2023-05-27T20:05:08.959259Z"
    }
   }
  },
  {
   "cell_type": "code",
   "execution_count": 20,
   "outputs": [],
   "source": [
    "import torch\n",
    "import torch.nn as nn\n",
    "import torch.optim as optim\n",
    "from torch.utils.data import Dataset, DataLoader\n",
    "from tqdm import tqdm\n",
    "import seaborn as sns\n",
    "import matplotlib.pyplot as plt\n",
    "from sklearn.metrics import precision_recall_fscore_support, matthews_corrcoef,confusion_matrix\n",
    "import torchaudio\n",
    "\n",
    "\n",
    "\n",
    "from cnn_model import CNNModel\n",
    "from datapreprocessing import AudioProcessor\n"
   ],
   "metadata": {
    "collapsed": false,
    "ExecuteTime": {
     "end_time": "2023-05-27T20:05:09.160683Z",
     "start_time": "2023-05-27T20:05:09.159266Z"
    }
   }
  },
  {
   "cell_type": "code",
   "execution_count": 21,
   "outputs": [
    {
     "name": "stdout",
     "output_type": "stream",
     "text": [
      "Using mps\n"
     ]
    }
   ],
   "source": [
    "# Set device\n",
    "if torch.cuda.is_available():\n",
    "    device = \"cuda\"\n",
    "elif torch.backends.mps.is_built():  # if you have apple silicon mac\n",
    "    device = \"mps\"  # if it doesn't work try device = torch.device('mps')\n",
    "else:\n",
    "    device = \"cpu\"\n",
    "print(f\"Using {device}\")"
   ],
   "metadata": {
    "collapsed": false,
    "ExecuteTime": {
     "end_time": "2023-05-27T20:05:09.352175Z",
     "start_time": "2023-05-27T20:05:09.349412Z"
    }
   }
  },
  {
   "cell_type": "code",
   "execution_count": 22,
   "outputs": [],
   "source": [
    "\n",
    "# Define a function to load the waveform and the sample rate from a file\n",
    "# def load_waveform(file_path):\n",
    "#     waveform, sample_rate = torchaudio.load(file_path)\n",
    "#     return waveform, sample_rate\n",
    "\n",
    "path_to_train = \"/Users/zainhazzouri/projects/Bachelor_Thesis/Data/train/\"\n",
    "path_to_test = \"/Users/zainhazzouri/projects/Bachelor_Thesis/Data/test/\"\n",
    "\n",
    "train_dataset = AudioProcessor(audio_dir=path_to_train)\n",
    "val_dataset = AudioProcessor(audio_dir=path_to_test)\n",
    "\n",
    "# Create DataLoaders\n",
    "train_loader = DataLoader(train_dataset, batch_size=batch_size, shuffle=True)\n",
    "val_loader = DataLoader(val_dataset, batch_size=batch_size, shuffle=False)\n",
    "\n",
    "\n",
    "\n",
    "\n",
    "\n",
    "\n",
    "\n",
    "# # Create an instance of AudioProcessor\n",
    "# audio_processor = AudioProcessor(AUDIO_DIR)\n",
    "#\n",
    "# # Create the dataset using the audio_processor instance\n",
    "# dataset = audio_processor\n",
    "\n",
    "\n",
    "# # Split the dataset into training and validation sets\n",
    "# train_size = int(0.8 * len(dataset))\n",
    "# val_size = len(dataset) - train_size\n",
    "# train_dataset, val_dataset = torch.utils.data.random_split(dataset, [train_size, val_size])\n",
    "#\n",
    "# # Create DataLoader\n",
    "# train_loader = DataLoader(train_dataset, batch_size=batch_size, shuffle=True)\n",
    "# val_loader = DataLoader(val_dataset, batch_size=batch_size, shuffle=False)\n",
    "\n",
    "# Initialize model, loss, and optimizer\n",
    "model = CNNModel().to(device)\n",
    "criterion = nn.CrossEntropyLoss()\n",
    "optimizer = optim.Adam(model.parameters(), lr=learning_rate)\n"
   ],
   "metadata": {
    "collapsed": false,
    "ExecuteTime": {
     "end_time": "2023-05-27T20:05:09.760264Z",
     "start_time": "2023-05-27T20:05:09.528384Z"
    }
   }
  },
  {
   "cell_type": "code",
   "execution_count": 23,
   "outputs": [],
   "source": [
    "def calculate_sdr(target, prediction):\n",
    "    target = target.float()\n",
    "    prediction = prediction.float()\n",
    "\n",
    "    target_energy = torch.sum(target**2)\n",
    "    error_signal = target - prediction\n",
    "    error_energy = torch.sum(error_signal**2)\n",
    "\n",
    "    sdr = 10 * torch.log10(target_energy / error_energy)\n",
    "    return sdr\n"
   ],
   "metadata": {
    "collapsed": false,
    "ExecuteTime": {
     "end_time": "2023-05-27T20:05:09.763998Z",
     "start_time": "2023-05-27T20:05:09.761688Z"
    }
   }
  },
  {
   "cell_type": "code",
   "execution_count": 24,
   "outputs": [],
   "source": [
    "def one_hot_encode(labels, num_classes, device):\n",
    "    return torch.eye(num_classes, device=device)[labels]\n"
   ],
   "metadata": {
    "collapsed": false,
    "ExecuteTime": {
     "end_time": "2023-05-27T20:05:09.767201Z",
     "start_time": "2023-05-27T20:05:09.765427Z"
    }
   }
  },
  {
   "cell_type": "code",
   "execution_count": 25,
   "outputs": [],
   "source": [
    "def evaluate(val_loader, model, criterion, device):\n",
    "    model.eval()\n",
    "    running_loss = 0.0\n",
    "    correct = 0\n",
    "    total = 0\n",
    "    all_targets = []\n",
    "    all_predictions = []\n",
    "    all_sdrs = []\n",
    "\n",
    "\n",
    "    with torch.no_grad():\n",
    "        for inputs, targets in val_loader:\n",
    "            inputs = inputs.to(device)\n",
    "            targets = targets.to(device)\n",
    "            targets = one_hot_encode(targets, num_classes=4, device=device).to(device)\n",
    "\n",
    "\n",
    "\n",
    "\n",
    "            # Forward pass\n",
    "            outputs = model(inputs)\n",
    "\n",
    "            # Calculate SDR and append to list\n",
    "            all_sdrs.append(calculate_sdr(targets, outputs))\n",
    "\n",
    "            # Calculate loss\n",
    "            loss = criterion(outputs, targets)\n",
    "\n",
    "            # Update loss\n",
    "            running_loss += loss.item()\n",
    "\n",
    "            # Calculate accuracy\n",
    "            _, predicted = torch.max(outputs.data, 1)\n",
    "            _, targets = torch.max(targets, 1)\n",
    "\n",
    "            total += targets.size(0)\n",
    "            correct += (predicted == targets).sum().item()\n",
    "\n",
    "            # Store targets and predictions for metrics calculation\n",
    "            all_targets.extend(targets.cpu().numpy())\n",
    "            all_predictions.extend(predicted.cpu().numpy())\n",
    "\n",
    "    avg_sdr = sum(all_sdrs) / len(all_sdrs)\n",
    "\n",
    "\n",
    "    # Calculate average loss and accuracy\n",
    "    avg_loss = running_loss / len(val_loader)\n",
    "    accuracy = 100 * correct / total\n",
    "\n",
    "    # Calculate precision, recall, F1-score, and MCC\n",
    "    precision, recall, f1_score, _ = precision_recall_fscore_support(all_targets, all_predictions, average='weighted')\n",
    "    mcc = matthews_corrcoef(all_targets, all_predictions)\n",
    "\n",
    "    return avg_loss, accuracy, precision, recall, f1_score, mcc, avg_sdr\n",
    "\n",
    "    # Evaluate the model\n",
    "    val_loss, val_accuracy, val_precision, val_recall, val_f1_score, val_mcc, avg_sdr = evaluate(val_loader, model, criterion, device)\n",
    "    print(f\"Validation Loss: {val_loss:.4f}\")\n",
    "    print(f\"Validation Accuracy: {val_accuracy:.2f}%\")\n",
    "    print(f\"Validation Precision: {val_precision:.4f}\")\n",
    "    print(f\"Validation Recall: {val_recall:.4f}\")\n",
    "    print(f\"Validation F1-score: {val_f1_score:.4f}\")\n",
    "    print(f\"Validation MCC: {val_mcc:.4f}\")\n",
    "    print(f\"Validation SDR: {avg_sdr:.4f}\")"
   ],
   "metadata": {
    "collapsed": false,
    "ExecuteTime": {
     "end_time": "2023-05-27T20:05:09.971938Z",
     "start_time": "2023-05-27T20:05:09.970270Z"
    }
   }
  },
  {
   "cell_type": "code",
   "execution_count": 26,
   "outputs": [
    {
     "name": "stdout",
     "output_type": "stream",
     "text": [
      "Epoch: 1/20\n"
     ]
    },
    {
     "name": "stderr",
     "output_type": "stream",
     "text": [
      "Training: 100%|███████████████████████████████████████████████████████| 7/7 [00:14<00:00,  2.05s/it]\n",
      "/Users/zainhazzouri/miniforge3/envs/Bachelor_Thesis/lib/python3.8/site-packages/sklearn/metrics/_classification.py:1344: UndefinedMetricWarning: Precision and F-score are ill-defined and being set to 0.0 in labels with no predicted samples. Use `zero_division` parameter to control this behavior.\n",
      "  _warn_prf(average, modifier, msg_start, len(result))\n"
     ]
    },
    {
     "name": "stdout",
     "output_type": "stream",
     "text": [
      "Train Loss: 1.2997 | Train Accuracy: 38.71%\n",
      "Validation Loss: 1.4103 | Validation Accuracy: 33.33%\n",
      "Validation Precision: 0.1111\n",
      "Validation Recall: 0.3333\n",
      "Validation F1-score: 0.1667\n",
      "Validation MCC: 0.0000\n",
      "Epoch: 2/20\n"
     ]
    },
    {
     "name": "stderr",
     "output_type": "stream",
     "text": [
      "Training:   0%|                                                               | 0/7 [00:00<?, ?it/s]/Users/zainhazzouri/miniforge3/envs/Bachelor_Thesis/lib/python3.8/site-packages/torchaudio/functional/functional.py:576: UserWarning: At least one mel filterbank has all zero values. The value for `n_mels` (128) may be set too high. Or, the value for `n_freqs` (201) may be set too low.\n",
      "  warnings.warn(\n",
      "Training: 100%|███████████████████████████████████████████████████████| 7/7 [00:10<00:00,  1.50s/it]\n",
      "/Users/zainhazzouri/miniforge3/envs/Bachelor_Thesis/lib/python3.8/site-packages/sklearn/metrics/_classification.py:1344: UndefinedMetricWarning: Precision and F-score are ill-defined and being set to 0.0 in labels with no predicted samples. Use `zero_division` parameter to control this behavior.\n",
      "  _warn_prf(average, modifier, msg_start, len(result))\n",
      "/Users/zainhazzouri/miniforge3/envs/Bachelor_Thesis/lib/python3.8/site-packages/sklearn/metrics/_classification.py:1344: UndefinedMetricWarning: Recall and F-score are ill-defined and being set to 0.0 in labels with no true samples. Use `zero_division` parameter to control this behavior.\n",
      "  _warn_prf(average, modifier, msg_start, len(result))\n"
     ]
    },
    {
     "name": "stdout",
     "output_type": "stream",
     "text": [
      "Train Loss: 1.2458 | Train Accuracy: 49.46%\n",
      "Validation Loss: 1.7437 | Validation Accuracy: 0.00%\n",
      "Validation Precision: 0.0000\n",
      "Validation Recall: 0.0000\n",
      "Validation F1-score: 0.0000\n",
      "Validation MCC: 0.0000\n",
      "Epoch: 3/20\n"
     ]
    },
    {
     "name": "stderr",
     "output_type": "stream",
     "text": [
      "Training:   0%|                                                               | 0/7 [00:00<?, ?it/s]/Users/zainhazzouri/miniforge3/envs/Bachelor_Thesis/lib/python3.8/site-packages/torchaudio/functional/functional.py:576: UserWarning: At least one mel filterbank has all zero values. The value for `n_mels` (128) may be set too high. Or, the value for `n_freqs` (201) may be set too low.\n",
      "  warnings.warn(\n",
      "Training: 100%|███████████████████████████████████████████████████████| 7/7 [00:10<00:00,  1.43s/it]\n",
      "/Users/zainhazzouri/miniforge3/envs/Bachelor_Thesis/lib/python3.8/site-packages/sklearn/metrics/_classification.py:1344: UndefinedMetricWarning: Precision and F-score are ill-defined and being set to 0.0 in labels with no predicted samples. Use `zero_division` parameter to control this behavior.\n",
      "  _warn_prf(average, modifier, msg_start, len(result))\n"
     ]
    },
    {
     "name": "stdout",
     "output_type": "stream",
     "text": [
      "Train Loss: 1.2790 | Train Accuracy: 45.28%\n",
      "Validation Loss: 1.3600 | Validation Accuracy: 38.46%\n",
      "Validation Precision: 0.4505\n",
      "Validation Recall: 0.3846\n",
      "Validation F1-score: 0.2622\n",
      "Validation MCC: 0.2013\n",
      "Epoch: 4/20\n"
     ]
    },
    {
     "name": "stderr",
     "output_type": "stream",
     "text": [
      "Training:   0%|                                                               | 0/7 [00:00<?, ?it/s]/Users/zainhazzouri/miniforge3/envs/Bachelor_Thesis/lib/python3.8/site-packages/torchaudio/functional/functional.py:576: UserWarning: At least one mel filterbank has all zero values. The value for `n_mels` (128) may be set too high. Or, the value for `n_freqs` (201) may be set too low.\n",
      "  warnings.warn(\n",
      "Training: 100%|███████████████████████████████████████████████████████| 7/7 [00:09<00:00,  1.39s/it]\n",
      "/Users/zainhazzouri/miniforge3/envs/Bachelor_Thesis/lib/python3.8/site-packages/sklearn/metrics/_classification.py:1344: UndefinedMetricWarning: Precision and F-score are ill-defined and being set to 0.0 in labels with no predicted samples. Use `zero_division` parameter to control this behavior.\n",
      "  _warn_prf(average, modifier, msg_start, len(result))\n"
     ]
    },
    {
     "name": "stdout",
     "output_type": "stream",
     "text": [
      "Train Loss: 1.2433 | Train Accuracy: 49.34%\n",
      "Validation Loss: 1.2066 | Validation Accuracy: 53.85%\n",
      "Validation Precision: 0.3718\n",
      "Validation Recall: 0.5385\n",
      "Validation F1-score: 0.4274\n",
      "Validation MCC: 0.3768\n",
      "Epoch: 5/20\n"
     ]
    },
    {
     "name": "stderr",
     "output_type": "stream",
     "text": [
      "Training:   0%|                                                               | 0/7 [00:00<?, ?it/s]/Users/zainhazzouri/miniforge3/envs/Bachelor_Thesis/lib/python3.8/site-packages/torchaudio/functional/functional.py:576: UserWarning: At least one mel filterbank has all zero values. The value for `n_mels` (128) may be set too high. Or, the value for `n_freqs` (201) may be set too low.\n",
      "  warnings.warn(\n",
      "Training: 100%|███████████████████████████████████████████████████████| 7/7 [00:09<00:00,  1.42s/it]\n",
      "/Users/zainhazzouri/miniforge3/envs/Bachelor_Thesis/lib/python3.8/site-packages/sklearn/metrics/_classification.py:1344: UndefinedMetricWarning: Precision and F-score are ill-defined and being set to 0.0 in labels with no predicted samples. Use `zero_division` parameter to control this behavior.\n",
      "  _warn_prf(average, modifier, msg_start, len(result))\n"
     ]
    },
    {
     "name": "stdout",
     "output_type": "stream",
     "text": [
      "Train Loss: 1.2249 | Train Accuracy: 50.66%\n",
      "Validation Loss: 1.1795 | Validation Accuracy: 53.85%\n",
      "Validation Precision: 0.3596\n",
      "Validation Recall: 0.5385\n",
      "Validation F1-score: 0.4312\n",
      "Validation MCC: 0.3554\n",
      "Epoch: 6/20\n"
     ]
    },
    {
     "name": "stderr",
     "output_type": "stream",
     "text": [
      "Training:   0%|                                                               | 0/7 [00:00<?, ?it/s]/Users/zainhazzouri/miniforge3/envs/Bachelor_Thesis/lib/python3.8/site-packages/torchaudio/functional/functional.py:576: UserWarning: At least one mel filterbank has all zero values. The value for `n_mels` (128) may be set too high. Or, the value for `n_freqs` (201) may be set too low.\n",
      "  warnings.warn(\n",
      "Training: 100%|███████████████████████████████████████████████████████| 7/7 [00:09<00:00,  1.41s/it]\n",
      "/Users/zainhazzouri/miniforge3/envs/Bachelor_Thesis/lib/python3.8/site-packages/sklearn/metrics/_classification.py:1344: UndefinedMetricWarning: Precision and F-score are ill-defined and being set to 0.0 in labels with no predicted samples. Use `zero_division` parameter to control this behavior.\n",
      "  _warn_prf(average, modifier, msg_start, len(result))\n"
     ]
    },
    {
     "name": "stdout",
     "output_type": "stream",
     "text": [
      "Train Loss: 1.2280 | Train Accuracy: 50.54%\n",
      "Validation Loss: 1.2074 | Validation Accuracy: 51.28%\n",
      "Validation Precision: 0.3462\n",
      "Validation Recall: 0.5128\n",
      "Validation F1-score: 0.4017\n",
      "Validation MCC: 0.3297\n",
      "Epoch: 7/20\n"
     ]
    },
    {
     "name": "stderr",
     "output_type": "stream",
     "text": [
      "Training:   0%|                                                               | 0/7 [00:00<?, ?it/s]/Users/zainhazzouri/miniforge3/envs/Bachelor_Thesis/lib/python3.8/site-packages/torchaudio/functional/functional.py:576: UserWarning: At least one mel filterbank has all zero values. The value for `n_mels` (128) may be set too high. Or, the value for `n_freqs` (201) may be set too low.\n",
      "  warnings.warn(\n",
      "Training: 100%|███████████████████████████████████████████████████████| 7/7 [00:09<00:00,  1.39s/it]\n",
      "/Users/zainhazzouri/miniforge3/envs/Bachelor_Thesis/lib/python3.8/site-packages/sklearn/metrics/_classification.py:1344: UndefinedMetricWarning: Precision and F-score are ill-defined and being set to 0.0 in labels with no predicted samples. Use `zero_division` parameter to control this behavior.\n",
      "  _warn_prf(average, modifier, msg_start, len(result))\n"
     ]
    },
    {
     "name": "stdout",
     "output_type": "stream",
     "text": [
      "Train Loss: 1.2131 | Train Accuracy: 51.97%\n",
      "Validation Loss: 1.1933 | Validation Accuracy: 53.85%\n",
      "Validation Precision: 0.3588\n",
      "Validation Recall: 0.5385\n",
      "Validation F1-score: 0.4306\n",
      "Validation MCC: 0.3554\n",
      "Epoch: 8/20\n"
     ]
    },
    {
     "name": "stderr",
     "output_type": "stream",
     "text": [
      "Training:   0%|                                                               | 0/7 [00:00<?, ?it/s]/Users/zainhazzouri/miniforge3/envs/Bachelor_Thesis/lib/python3.8/site-packages/torchaudio/functional/functional.py:576: UserWarning: At least one mel filterbank has all zero values. The value for `n_mels` (128) may be set too high. Or, the value for `n_freqs` (201) may be set too low.\n",
      "  warnings.warn(\n",
      "Training: 100%|███████████████████████████████████████████████████████| 7/7 [00:09<00:00,  1.41s/it]\n"
     ]
    },
    {
     "name": "stdout",
     "output_type": "stream",
     "text": [
      "Train Loss: 1.2052 | Train Accuracy: 53.17%\n",
      "Validation Loss: 1.2141 | Validation Accuracy: 51.28%\n",
      "Validation Precision: 0.4461\n",
      "Validation Recall: 0.5128\n",
      "Validation F1-score: 0.4550\n",
      "Validation MCC: 0.2871\n",
      "Epoch: 9/20\n"
     ]
    },
    {
     "name": "stderr",
     "output_type": "stream",
     "text": [
      "Training:   0%|                                                               | 0/7 [00:00<?, ?it/s]/Users/zainhazzouri/miniforge3/envs/Bachelor_Thesis/lib/python3.8/site-packages/torchaudio/functional/functional.py:576: UserWarning: At least one mel filterbank has all zero values. The value for `n_mels` (128) may be set too high. Or, the value for `n_freqs` (201) may be set too low.\n",
      "  warnings.warn(\n",
      "Training: 100%|███████████████████████████████████████████████████████| 7/7 [00:09<00:00,  1.41s/it]\n"
     ]
    },
    {
     "name": "stdout",
     "output_type": "stream",
     "text": [
      "Train Loss: 1.1817 | Train Accuracy: 55.32%\n",
      "Validation Loss: 1.2371 | Validation Accuracy: 48.72%\n",
      "Validation Precision: 0.4452\n",
      "Validation Recall: 0.4872\n",
      "Validation F1-score: 0.4489\n",
      "Validation MCC: 0.2412\n",
      "Epoch: 10/20\n"
     ]
    },
    {
     "name": "stderr",
     "output_type": "stream",
     "text": [
      "Training:   0%|                                                               | 0/7 [00:00<?, ?it/s]/Users/zainhazzouri/miniforge3/envs/Bachelor_Thesis/lib/python3.8/site-packages/torchaudio/functional/functional.py:576: UserWarning: At least one mel filterbank has all zero values. The value for `n_mels` (128) may be set too high. Or, the value for `n_freqs` (201) may be set too low.\n",
      "  warnings.warn(\n",
      "Training: 100%|███████████████████████████████████████████████████████| 7/7 [00:09<00:00,  1.39s/it]\n"
     ]
    },
    {
     "name": "stdout",
     "output_type": "stream",
     "text": [
      "Train Loss: 1.1663 | Train Accuracy: 56.39%\n",
      "Validation Loss: 1.2353 | Validation Accuracy: 48.72%\n",
      "Validation Precision: 0.4931\n",
      "Validation Recall: 0.4872\n",
      "Validation F1-score: 0.4800\n",
      "Validation MCC: 0.2352\n",
      "Epoch: 11/20\n"
     ]
    },
    {
     "name": "stderr",
     "output_type": "stream",
     "text": [
      "Training:   0%|                                                               | 0/7 [00:00<?, ?it/s]/Users/zainhazzouri/miniforge3/envs/Bachelor_Thesis/lib/python3.8/site-packages/torchaudio/functional/functional.py:576: UserWarning: At least one mel filterbank has all zero values. The value for `n_mels` (128) may be set too high. Or, the value for `n_freqs` (201) may be set too low.\n",
      "  warnings.warn(\n",
      "Training: 100%|███████████████████████████████████████████████████████| 7/7 [00:09<00:00,  1.41s/it]\n"
     ]
    },
    {
     "name": "stdout",
     "output_type": "stream",
     "text": [
      "Train Loss: 1.1298 | Train Accuracy: 59.98%\n",
      "Validation Loss: 1.1231 | Validation Accuracy: 61.54%\n",
      "Validation Precision: 0.6215\n",
      "Validation Recall: 0.6154\n",
      "Validation F1-score: 0.6088\n",
      "Validation MCC: 0.4312\n",
      "Epoch: 12/20\n"
     ]
    },
    {
     "name": "stderr",
     "output_type": "stream",
     "text": [
      "Training:   0%|                                                               | 0/7 [00:00<?, ?it/s]/Users/zainhazzouri/miniforge3/envs/Bachelor_Thesis/lib/python3.8/site-packages/torchaudio/functional/functional.py:576: UserWarning: At least one mel filterbank has all zero values. The value for `n_mels` (128) may be set too high. Or, the value for `n_freqs` (201) may be set too low.\n",
      "  warnings.warn(\n",
      "Training: 100%|███████████████████████████████████████████████████████| 7/7 [00:09<00:00,  1.39s/it]\n"
     ]
    },
    {
     "name": "stdout",
     "output_type": "stream",
     "text": [
      "Train Loss: 1.1003 | Train Accuracy: 64.16%\n",
      "Validation Loss: 1.2487 | Validation Accuracy: 48.72%\n",
      "Validation Precision: 0.5185\n",
      "Validation Recall: 0.4872\n",
      "Validation F1-score: 0.4805\n",
      "Validation MCC: 0.2382\n",
      "Epoch: 13/20\n"
     ]
    },
    {
     "name": "stderr",
     "output_type": "stream",
     "text": [
      "Training:   0%|                                                               | 0/7 [00:00<?, ?it/s]/Users/zainhazzouri/miniforge3/envs/Bachelor_Thesis/lib/python3.8/site-packages/torchaudio/functional/functional.py:576: UserWarning: At least one mel filterbank has all zero values. The value for `n_mels` (128) may be set too high. Or, the value for `n_freqs` (201) may be set too low.\n",
      "  warnings.warn(\n",
      "Training: 100%|███████████████████████████████████████████████████████| 7/7 [00:09<00:00,  1.42s/it]\n"
     ]
    },
    {
     "name": "stdout",
     "output_type": "stream",
     "text": [
      "Train Loss: 1.0890 | Train Accuracy: 63.44%\n",
      "Validation Loss: 1.1574 | Validation Accuracy: 53.85%\n",
      "Validation Precision: 0.3975\n",
      "Validation Recall: 0.5385\n",
      "Validation F1-score: 0.4506\n",
      "Validation MCC: 0.3482\n",
      "Epoch: 14/20\n"
     ]
    },
    {
     "name": "stderr",
     "output_type": "stream",
     "text": [
      "Training:   0%|                                                               | 0/7 [00:00<?, ?it/s]/Users/zainhazzouri/miniforge3/envs/Bachelor_Thesis/lib/python3.8/site-packages/torchaudio/functional/functional.py:576: UserWarning: At least one mel filterbank has all zero values. The value for `n_mels` (128) may be set too high. Or, the value for `n_freqs` (201) may be set too low.\n",
      "  warnings.warn(\n",
      "Training: 100%|███████████████████████████████████████████████████████| 7/7 [00:10<00:00,  1.44s/it]\n"
     ]
    },
    {
     "name": "stdout",
     "output_type": "stream",
     "text": [
      "Train Loss: 1.0630 | Train Accuracy: 66.67%\n",
      "Validation Loss: 1.1210 | Validation Accuracy: 61.54%\n",
      "Validation Precision: 0.5963\n",
      "Validation Recall: 0.6154\n",
      "Validation F1-score: 0.5822\n",
      "Validation MCC: 0.4404\n",
      "Epoch: 15/20\n"
     ]
    },
    {
     "name": "stderr",
     "output_type": "stream",
     "text": [
      "Training:   0%|                                                               | 0/7 [00:00<?, ?it/s]/Users/zainhazzouri/miniforge3/envs/Bachelor_Thesis/lib/python3.8/site-packages/torchaudio/functional/functional.py:576: UserWarning: At least one mel filterbank has all zero values. The value for `n_mels` (128) may be set too high. Or, the value for `n_freqs` (201) may be set too low.\n",
      "  warnings.warn(\n",
      "Training: 100%|███████████████████████████████████████████████████████| 7/7 [00:09<00:00,  1.43s/it]\n"
     ]
    },
    {
     "name": "stdout",
     "output_type": "stream",
     "text": [
      "Train Loss: 1.0157 | Train Accuracy: 72.04%\n",
      "Validation Loss: 1.1962 | Validation Accuracy: 48.72%\n",
      "Validation Precision: 0.4421\n",
      "Validation Recall: 0.4872\n",
      "Validation F1-score: 0.4497\n",
      "Validation MCC: 0.2394\n",
      "Epoch: 16/20\n"
     ]
    },
    {
     "name": "stderr",
     "output_type": "stream",
     "text": [
      "Training:   0%|                                                               | 0/7 [00:00<?, ?it/s]/Users/zainhazzouri/miniforge3/envs/Bachelor_Thesis/lib/python3.8/site-packages/torchaudio/functional/functional.py:576: UserWarning: At least one mel filterbank has all zero values. The value for `n_mels` (128) may be set too high. Or, the value for `n_freqs` (201) may be set too low.\n",
      "  warnings.warn(\n",
      "Training: 100%|███████████████████████████████████████████████████████| 7/7 [00:09<00:00,  1.40s/it]\n"
     ]
    },
    {
     "name": "stdout",
     "output_type": "stream",
     "text": [
      "Train Loss: 0.9724 | Train Accuracy: 76.22%\n",
      "Validation Loss: 1.1604 | Validation Accuracy: 58.97%\n",
      "Validation Precision: 0.5532\n",
      "Validation Recall: 0.5897\n",
      "Validation F1-score: 0.5443\n",
      "Validation MCC: 0.4060\n",
      "Epoch: 17/20\n"
     ]
    },
    {
     "name": "stderr",
     "output_type": "stream",
     "text": [
      "Training:   0%|                                                               | 0/7 [00:00<?, ?it/s]/Users/zainhazzouri/miniforge3/envs/Bachelor_Thesis/lib/python3.8/site-packages/torchaudio/functional/functional.py:576: UserWarning: At least one mel filterbank has all zero values. The value for `n_mels` (128) may be set too high. Or, the value for `n_freqs` (201) may be set too low.\n",
      "  warnings.warn(\n",
      "Training: 100%|███████████████████████████████████████████████████████| 7/7 [00:09<00:00,  1.39s/it]\n"
     ]
    },
    {
     "name": "stdout",
     "output_type": "stream",
     "text": [
      "Train Loss: 0.9549 | Train Accuracy: 79.45%\n",
      "Validation Loss: 1.1893 | Validation Accuracy: 56.41%\n",
      "Validation Precision: 0.5361\n",
      "Validation Recall: 0.5641\n",
      "Validation F1-score: 0.5411\n",
      "Validation MCC: 0.3528\n",
      "Epoch: 18/20\n"
     ]
    },
    {
     "name": "stderr",
     "output_type": "stream",
     "text": [
      "Training:   0%|                                                               | 0/7 [00:00<?, ?it/s]/Users/zainhazzouri/miniforge3/envs/Bachelor_Thesis/lib/python3.8/site-packages/torchaudio/functional/functional.py:576: UserWarning: At least one mel filterbank has all zero values. The value for `n_mels` (128) may be set too high. Or, the value for `n_freqs` (201) may be set too low.\n",
      "  warnings.warn(\n",
      "Training: 100%|███████████████████████████████████████████████████████| 7/7 [00:09<00:00,  1.41s/it]\n"
     ]
    },
    {
     "name": "stdout",
     "output_type": "stream",
     "text": [
      "Train Loss: 0.9263 | Train Accuracy: 82.08%\n",
      "Validation Loss: 1.2231 | Validation Accuracy: 51.28%\n",
      "Validation Precision: 0.4920\n",
      "Validation Recall: 0.5128\n",
      "Validation F1-score: 0.4897\n",
      "Validation MCC: 0.2793\n",
      "Epoch: 19/20\n"
     ]
    },
    {
     "name": "stderr",
     "output_type": "stream",
     "text": [
      "Training:   0%|                                                               | 0/7 [00:00<?, ?it/s]/Users/zainhazzouri/miniforge3/envs/Bachelor_Thesis/lib/python3.8/site-packages/torchaudio/functional/functional.py:576: UserWarning: At least one mel filterbank has all zero values. The value for `n_mels` (128) may be set too high. Or, the value for `n_freqs` (201) may be set too low.\n",
      "  warnings.warn(\n",
      "Training: 100%|███████████████████████████████████████████████████████| 7/7 [00:09<00:00,  1.38s/it]\n"
     ]
    },
    {
     "name": "stdout",
     "output_type": "stream",
     "text": [
      "Train Loss: 0.9093 | Train Accuracy: 83.39%\n",
      "Validation Loss: 1.2268 | Validation Accuracy: 48.72%\n",
      "Validation Precision: 0.4738\n",
      "Validation Recall: 0.4872\n",
      "Validation F1-score: 0.4760\n",
      "Validation MCC: 0.2345\n",
      "Epoch: 20/20\n"
     ]
    },
    {
     "name": "stderr",
     "output_type": "stream",
     "text": [
      "Training:   0%|                                                               | 0/7 [00:00<?, ?it/s]/Users/zainhazzouri/miniforge3/envs/Bachelor_Thesis/lib/python3.8/site-packages/torchaudio/functional/functional.py:576: UserWarning: At least one mel filterbank has all zero values. The value for `n_mels` (128) may be set too high. Or, the value for `n_freqs` (201) may be set too low.\n",
      "  warnings.warn(\n",
      "Training: 100%|███████████████████████████████████████████████████████| 7/7 [00:09<00:00,  1.43s/it]\n"
     ]
    },
    {
     "name": "stdout",
     "output_type": "stream",
     "text": [
      "Train Loss: 0.8921 | Train Accuracy: 85.42%\n",
      "Validation Loss: 1.2514 | Validation Accuracy: 46.15%\n",
      "Validation Precision: 0.4630\n",
      "Validation Recall: 0.4615\n",
      "Validation F1-score: 0.4563\n",
      "Validation MCC: 0.1964\n",
      "Training finished.\n"
     ]
    }
   ],
   "source": [
    "# Initialize lists for storing loss and accuracy\n",
    "train_losses = []\n",
    "train_accuracies = []\n",
    "val_losses = []\n",
    "val_accuracies = []\n",
    "val_precisions = []\n",
    "val_recalls = []\n",
    "val_f1_scores = []\n",
    "val_mccs = []\n",
    "val_sdrs = []\n",
    "\n",
    "\n",
    "# training loop\n",
    "for epoch in range(num_epochs):\n",
    "    print(f\"Epoch: {epoch+1}/{num_epochs}\")\n",
    "\n",
    "    model.train()\n",
    "    running_loss = 0.0\n",
    "    correct = 0\n",
    "    total = 0\n",
    "\n",
    "    for i, (inputs, targets) in enumerate(tqdm(train_loader, desc=\"Training\", ncols=100)):\n",
    "        inputs = inputs.to(device)\n",
    "\n",
    "        # targets = targets.to(device)\n",
    "        targets = one_hot_encode(targets, num_classes=4, device=device).to(device)\n",
    "\n",
    "\n",
    "\n",
    "        # Zero the parameter gradients\n",
    "        optimizer.zero_grad() # zero the gradient buffers\n",
    "\n",
    "        # Forward pass\n",
    "        outputs = model(inputs)\n",
    "\n",
    "\n",
    "        # print(f'outputs shape: {outputs.shape}')\n",
    "        # print(f'targets shape: {targets.shape}')\n",
    "\n",
    "\n",
    "\n",
    "        # Calculate loss\n",
    "        loss = criterion(outputs, targets)\n",
    "\n",
    "        # Backward pass\n",
    "        loss.backward()\n",
    "\n",
    "        # Optimize\n",
    "        optimizer.step()\n",
    "\n",
    "        # Update loss\n",
    "        running_loss += loss.item()\n",
    "\n",
    "        # Update total and correct\n",
    "        _, predicted = torch.max(outputs.data, 1)\n",
    "        _, targets = torch.max(targets, 1)\n",
    "\n",
    "        total += targets.size(0)\n",
    "        correct += (predicted == targets).sum().item()\n",
    "\n",
    "    # Calculate average loss and accuracy for the epoch\n",
    "    epoch_loss = running_loss / len(train_loader)\n",
    "    epoch_accuracy = 100 * correct / total\n",
    "    train_losses.append(epoch_loss)\n",
    "    train_accuracies.append(epoch_accuracy)\n",
    "\n",
    "    # Validate and store the validation loss and accuracy\n",
    "\n",
    "    # Validate and store the validation metrics\n",
    "    val_loss, val_accuracy, val_precision, val_recall, val_f1_score, val_mcc, val_sdr = evaluate(val_loader, model, criterion, device)\n",
    "    val_losses.append(val_loss)\n",
    "    val_accuracies.append(val_accuracy)\n",
    "    val_precisions.append(val_precision)\n",
    "    val_recalls.append(val_recall)\n",
    "    val_f1_scores.append(val_f1_score)\n",
    "    val_mccs.append(val_mcc)\n",
    "    val_sdrs.append(val_sdr)\n",
    "\n",
    "    print(f\"Train Loss: {epoch_loss:.4f} | Train Accuracy: {epoch_accuracy:.2f}%\")\n",
    "    print(f\"Validation Loss: {val_loss:.4f} | Validation Accuracy: {val_accuracy:.2f}%\")\n",
    "    print(f\"Validation Precision: {val_precision:.4f}\")\n",
    "    print(f\"Validation Recall: {val_recall:.4f}\")\n",
    "    print(f\"Validation F1-score: {val_f1_score:.4f}\")\n",
    "    print(f\"Validation MCC: {val_mcc:.4f}\")\n",
    "\n",
    "print(\"Training finished.\")\n",
    "\n"
   ],
   "metadata": {
    "collapsed": false,
    "ExecuteTime": {
     "end_time": "2023-05-27T20:08:38.664049Z",
     "start_time": "2023-05-27T20:05:10.239513Z"
    }
   }
  },
  {
   "cell_type": "code",
   "execution_count": 27,
   "outputs": [
    {
     "data": {
      "text/plain": "<Figure size 864x288 with 2 Axes>",
      "image/png": "[encoded data removed]"
     },
     "metadata": {
      "needs_background": "light"
     },
     "output_type": "display_data"
    }
   ],
   "source": [
    "# Plotting\n",
    "fig, (ax1, ax2) = plt.subplots(1, 2, figsize=(12, 4))\n",
    "\n",
    "# Loss\n",
    "ax1.plot(train_losses, label='Train')\n",
    "ax1.plot(val_losses, label='Validation')\n",
    "ax1.set_title('Loss')\n",
    "ax1.set_xlabel('Epoch')\n",
    "ax1.set_ylabel('Loss')\n",
    "ax1.legend()\n",
    "\n",
    "# Accuracy\n",
    "ax2.plot(train_accuracies, label='Train')\n",
    "ax2.plot(val_accuracies, label='Validation')\n",
    "ax2.set_title('Accuracy')\n",
    "ax2.set_xlabel('Epoch')\n",
    "ax2.set_ylabel('Accuracy (%)')\n",
    "ax2.legend()\n",
    "\n",
    "plt.show()"
   ],
   "metadata": {
    "collapsed": false,
    "ExecuteTime": {
     "end_time": "2023-05-27T20:08:39.161769Z",
     "start_time": "2023-05-27T20:08:38.678162Z"
    }
   }
  },
  {
   "cell_type": "code",
   "execution_count": 28,
   "outputs": [
    {
     "data": {
      "text/plain": "<Figure size 864x1152 with 4 Axes>",
      "image/png": "[encoded data removed]"
     },
     "metadata": {
      "needs_background": "light"
     },
     "output_type": "display_data"
    }
   ],
   "source": [
    "fig, (ax1, ax2, ax3, ax4) = plt.subplots(4, 1, figsize=(12, 16))\n",
    "\n",
    "# Precision\n",
    "ax1.plot(val_precisions, label='Validation')\n",
    "ax1.set_title('Precision')\n",
    "ax1.set_xlabel('Epoch')\n",
    "ax1.set_ylabel('Precision')\n",
    "ax1.legend()\n",
    "\n",
    "# Recall\n",
    "ax2.plot(val_recalls, label='Validation')\n",
    "ax2.set_title('Recall')\n",
    "ax2.set_xlabel('Epoch')\n",
    "ax2.set_ylabel('Recall')\n",
    "ax2.legend()\n",
    "\n",
    "# F1-score\n",
    "ax3.plot(val_f1_scores, label='Validation')\n",
    "ax3.set_title('F1-Score')\n",
    "ax3.set_xlabel('Epoch')\n",
    "ax3.set_ylabel('F1-Score')\n",
    "ax3.legend()\n",
    "\n",
    "# MCC\n",
    "ax4.plot(val_mccs, label='Validation')\n",
    "ax4.set_title('MCC')\n",
    "ax4.set_xlabel('Epoch')\n",
    "ax4.set_ylabel('MCC')\n",
    "ax4.legend()\n",
    "\n",
    "plt.tight_layout()\n",
    "plt.show()\n"
   ],
   "metadata": {
    "collapsed": false,
    "ExecuteTime": {
     "end_time": "2023-05-27T20:08:39.541813Z",
     "start_time": "2023-05-27T20:08:39.217500Z"
    }
   }
  },
  {
   "cell_type": "code",
   "execution_count": 31,
   "outputs": [
    {
     "data": {
      "text/plain": "<Figure size 432x288 with 1 Axes>",
      "image/png": "[encoded data removed]"
     },
     "metadata": {
      "needs_background": "light"
     },
     "output_type": "display_data"
    }
   ],
   "source": [
    "# Convert list of tensors to list of numpy arrays (if necessary)\n",
    "if isinstance(val_sdrs[0], torch.Tensor):\n",
    "    val_sdrs_np = [sdr.cpu().numpy() for sdr in val_sdrs]\n",
    "else:\n",
    "    val_sdrs_np = val_sdrs\n",
    "\n",
    "# Plotting SDR\n",
    "fig, ax = plt.subplots(figsize=(6, 4))\n",
    "\n",
    "# SDR\n",
    "ax.plot(val_sdrs_np, label='Validation')\n",
    "ax.set_title('Signal-to-Distortion Ratio (SDR)')\n",
    "ax.set_xlabel('Epoch')\n",
    "ax.set_ylabel('SDR')\n",
    "ax.legend()\n",
    "\n",
    "plt.show()\n"
   ],
   "metadata": {
    "collapsed": false,
    "ExecuteTime": {
     "end_time": "2023-05-27T20:12:16.470701Z",
     "start_time": "2023-05-27T20:12:16.363078Z"
    }
   }
  },
  {
   "cell_type": "code",
   "execution_count": 32,
   "outputs": [
    {
     "name": "stderr",
     "output_type": "stream",
     "text": [
      "/Users/zainhazzouri/miniforge3/envs/Bachelor_Thesis/lib/python3.8/site-packages/torchaudio/functional/functional.py:576: UserWarning: At least one mel filterbank has all zero values. The value for `n_mels` (128) may be set too high. Or, the value for `n_freqs` (201) may be set too low.\n",
      "  warnings.warn(\n"
     ]
    },
    {
     "data": {
      "text/plain": "<Figure size 432x288 with 2 Axes>",
      "image/png": "[encoded data removed]"
     },
     "metadata": {
      "needs_background": "light"
     },
     "output_type": "display_data"
    },
    {
     "data": {
      "text/plain": "<Figure size 720x288 with 2 Axes>",
      "image/png": "[encoded data removed]"
     },
     "metadata": {
      "needs_background": "light"
     },
     "output_type": "display_data"
    }
   ],
   "source": [
    "def plot_confusion_matrix(y_true, y_pred, labels, ax=None, title=None):\n",
    "    cm = confusion_matrix(y_true, y_pred, labels=labels)\n",
    "    if ax is None:\n",
    "        _, ax = plt.subplots()\n",
    "    sns.heatmap(cm, annot=True, fmt=\"d\", cmap=\"YlGnBu\", ax=ax, xticklabels=labels, yticklabels=labels)\n",
    "    ax.set_xlabel(\"Predicted\")\n",
    "    ax.set_ylabel(\"True\")\n",
    "    if title:\n",
    "        ax.set_title(title)\n",
    "\n",
    "def get_weights_gradients(model):\n",
    "    weights = []\n",
    "    gradients = []\n",
    "    for name, param in model.named_parameters():\n",
    "        if param.requires_grad:\n",
    "            weights.append(param.data.cpu().numpy())\n",
    "            gradients.append(param.grad.data.cpu().numpy())\n",
    "    return weights, gradients\n",
    "\n",
    "def plot_histograms(weights, gradients, figsize=(10, 4)):\n",
    "    fig, (ax1, ax2) = plt.subplots(1, 2, figsize=figsize)\n",
    "\n",
    "    for w in weights:\n",
    "        ax1.hist(w.flatten(), bins=100, alpha=0.5)\n",
    "    ax1.set_title(\"Weights Histogram\")\n",
    "    ax1.set_xlabel(\"Value\")\n",
    "    ax1.set_ylabel(\"Frequency\")\n",
    "\n",
    "    for g in gradients:\n",
    "        ax2.hist(g.flatten(), bins=100, alpha=0.5)\n",
    "    ax2.set_title(\"Gradients Histogram\")\n",
    "    ax2.set_xlabel(\"Value\")\n",
    "    ax2.set_ylabel(\"Frequency\")\n",
    "\n",
    "    plt.show()\n",
    "\n",
    "# Get true labels and predictions on the validation set\n",
    "y_true = []\n",
    "y_pred = []\n",
    "model.eval()\n",
    "with torch.no_grad():\n",
    "    for inputs, targets in val_loader:\n",
    "        inputs = inputs.to(device)\n",
    "        targets = targets.to(device)\n",
    "        outputs = model(inputs)\n",
    "        _, predicted = torch.max(outputs.data, 1)\n",
    "        y_true.extend(targets.cpu().numpy())\n",
    "        y_pred.extend(predicted.cpu().numpy())\n",
    "\n",
    "# Plot confusion matrix\n",
    "plot_confusion_matrix(y_true, y_pred, labels=[0, 1], title=\"Confusion Matrix\")\n",
    "\n",
    "# Extract weights and gradients and plot histograms\n",
    "weights, gradients = get_weights_gradients(model)\n",
    "plot_histograms(weights, gradients)\n"
   ],
   "metadata": {
    "collapsed": false,
    "ExecuteTime": {
     "end_time": "2023-05-27T20:12:48.980580Z",
     "start_time": "2023-05-27T20:12:33.610054Z"
    }
   }
  },
  {
   "cell_type": "code",
   "execution_count": 33,
   "outputs": [
    {
     "name": "stdout",
     "output_type": "stream",
     "text": [
      "Model saved.\n"
     ]
    }
   ],
   "source": [
    "# Save the trained model\n",
    "torch.save(model.state_dict(), \"CNNModel_speech_music_discrimination.pth\")\n",
    "print(\"Model saved.\")"
   ],
   "metadata": {
    "collapsed": false,
    "ExecuteTime": {
     "end_time": "2023-05-27T20:12:49.994254Z",
     "start_time": "2023-05-27T20:12:48.977779Z"
    }
   }
  },
  {
   "cell_type": "code",
   "execution_count": 35,
   "outputs": [],
   "source": [
    "# # this part doesn't work any more because of the change in the model -> \"attention\" layer\n",
    "# # Show model summary\n",
    "# try:\n",
    "#     from torchsummary import summary\n",
    "#     print(\"\\nModel summary:\")\n",
    "#\n",
    "#     original_device = device\n",
    "#     if device == 'mps': # because MPS is not supported by torchsummary\n",
    "#         device = 'cpu'\n",
    "#\n",
    "#\n",
    "#     class ModelWrapper(nn.Module):\n",
    "#         def __init__(self, module):\n",
    "#             super(ModelWrapper, self).__init__()\n",
    "#             self.module = module\n",
    "#\n",
    "#         def forward(self, x):\n",
    "#             return self.module(x)\n",
    "#\n",
    "#     model = ModelWrapper(CNNModel(mfcc_dim=32, output_ch=4)).to(device)\n",
    "#     summary(model, input_size=(1, 32, 112))\n",
    "#\n",
    "#     if original_device == 'mps': # Restore original device\n",
    "#         device = original_device\n",
    "#         model.to(device)\n",
    "#\n",
    "# except ImportError:\n",
    "#     print(\"\\nPlease install torchsummary to display the model summary. Use `pip install torchsummary`.\")"
   ],
   "metadata": {
    "collapsed": false,
    "ExecuteTime": {
     "end_time": "2023-05-27T20:12:59.846249Z",
     "start_time": "2023-05-27T20:12:59.841862Z"
    }
   }
  },
  {
   "cell_type": "code",
   "execution_count": null,
   "outputs": [],
   "source": [],
   "metadata": {
    "collapsed": false
   }
  },
  {
   "cell_type": "code",
   "execution_count": 48,
   "outputs": [],
   "source": [],
   "metadata": {
    "collapsed": false,
    "ExecuteTime": {
     "end_time": "2023-05-09T16:20:58.826094Z",
     "start_time": "2023-05-09T16:20:58.824820Z"
    }
   }
  },
  {
   "cell_type": "code",
   "execution_count": 37,
   "outputs": [],
   "source": [],
   "metadata": {
    "collapsed": false,
    "ExecuteTime": {
     "end_time": "2023-05-09T16:16:28.152608Z",
     "start_time": "2023-05-09T16:16:28.150843Z"
    }
   }
  },
  {
   "cell_type": "code",
   "execution_count": null,
   "outputs": [],
   "source": [],
   "metadata": {
    "collapsed": false
   }
  }
 ],
 "metadata": {
  "kernelspec": {
   "display_name": "Python 3",
   "language": "python",
   "name": "python3"
  },
  "language_info": {
   "codemirror_mode": {
    "name": "ipython",
    "version": 2
   },
   "file_extension": ".py",
   "mimetype": "text/x-python",
   "name": "python",
   "nbconvert_exporter": "python",
   "pygments_lexer": "ipython2",
   "version": "2.7.6"
  }
 },
 "nbformat": 4,
 "nbformat_minor": 0
}
