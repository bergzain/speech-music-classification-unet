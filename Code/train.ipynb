{
 "cells": [
  {
   "cell_type": "code",
   "execution_count": 43,
   "outputs": [],
   "source": [
    "AUDIO_DIR = \"/Users/zainhazzouri/projects/Bachelor_Thesis/Data/Kaggle/\"\n",
    "SAMPLE_RATE = 22050 # sample rate of the audio file\n",
    "bit_depth = 16 # bit depth of the audio file\n",
    "hop_length = 512\n",
    "n_mfcc = 20 # number of MFCCs features\n",
    "n_fft=1024, # window size\n",
    "n_mels = 256 # number of mel bands to generate\n",
    "win_length = None # window length\n",
    "\n",
    "\n",
    "# Training parameters\n",
    "batch_size = 32\n",
    "learning_rate = 0.001\n",
    "num_epochs = 20\n",
    "\n",
    "\n"
   ],
   "metadata": {
    "collapsed": false,
    "ExecuteTime": {
     "start_time": "2023-04-27T03:32:01.926776Z",
     "end_time": "2023-04-27T03:32:01.932496Z"
    }
   }
  },
  {
   "cell_type": "code",
   "execution_count": 54,
   "outputs": [],
   "source": [
    "import torch\n",
    "import torch.nn as nn\n",
    "import torch.optim as optim\n",
    "from torch.utils.data import Dataset, DataLoader\n",
    "from tqdm import tqdm\n",
    "import seaborn as sns\n",
    "import matplotlib.pyplot as plt\n",
    "from sklearn.metrics import confusion_matrix\n",
    "\n",
    "from cnn_model import CNNModel\n",
    "from datapreprocessing import AudioProcessor\n"
   ],
   "metadata": {
    "collapsed": false,
    "ExecuteTime": {
     "start_time": "2023-04-27T03:35:58.037006Z",
     "end_time": "2023-04-27T03:35:58.040110Z"
    }
   }
  },
  {
   "cell_type": "code",
   "execution_count": 0,
   "outputs": [],
   "source": [
    "# Set device\n",
    "if torch.cuda.is_available():\n",
    "    device = \"cuda\"\n",
    "elif torch.backends.mps.is_built():  # if you have apple silicon mac\n",
    "    device = \"mps\"  # if it doesn't work try device = torch.device('mps')\n",
    "else:\n",
    "    device = \"cpu\"\n",
    "print(f\"Using {device}\")"
   ],
   "metadata": {
    "collapsed": false,
    "ExecuteTime": {
     "start_time": "2023-04-27T03:32:55.348772Z",
     "end_time": "2023-04-27T03:32:55.359623Z"
    }
   }
  },
  {
   "cell_type": "code",
   "execution_count": 48,
   "outputs": [
    {
     "name": "stdout",
     "output_type": "stream",
     "text": [
      "Using mps\n"
     ]
    }
   ],
   "source": [
    "# Create an instance of AudioProcessor\n",
    "audio_processor = AudioProcessor(AUDIO_DIR)\n",
    "\n",
    "# Create the dataset using the audio_processor instance\n",
    "dataset = audio_processor\n",
    "\n",
    "\n",
    "# Split the dataset into training and validation sets\n",
    "train_size = int(0.8 * len(dataset))\n",
    "val_size = len(dataset) - train_size\n",
    "train_dataset, val_dataset = torch.utils.data.random_split(dataset, [train_size, val_size])\n",
    "\n",
    "# Create DataLoader\n",
    "train_loader = DataLoader(train_dataset, batch_size=batch_size, shuffle=True)\n",
    "val_loader = DataLoader(val_dataset, batch_size=batch_size, shuffle=False)\n",
    "\n",
    "# Initialize model, loss, and optimizer\n",
    "model = CNNModel().to(device)\n",
    "criterion = nn.CrossEntropyLoss()\n",
    "optimizer = optim.Adam(model.parameters(), lr=learning_rate)\n"
   ],
   "metadata": {
    "collapsed": false
   }
  },
  {
   "cell_type": "code",
   "execution_count": 49,
   "outputs": [
    {
     "name": "stdout",
     "output_type": "stream",
     "text": [
      "Dataset length: 193\n"
     ]
    }
   ],
   "source": [
    "print(\"Dataset length:\", len(dataset))\n"
   ],
   "metadata": {
    "collapsed": false,
    "ExecuteTime": {
     "start_time": "2023-04-27T03:32:55.744132Z",
     "end_time": "2023-04-27T03:32:55.750324Z"
    }
   }
  },
  {
   "cell_type": "code",
   "execution_count": 52,
   "outputs": [
    {
     "name": "stdout",
     "output_type": "stream",
     "text": [
      "Validation Loss: 1.0512\n",
      "Validation Accuracy: 43.59%\n"
     ]
    }
   ],
   "source": [
    "# Evaluation function\n",
    "\n",
    "#1. Average validation loss: This metric is calculated using the same loss function (`criterion`) used during training, which is CrossEntropyLoss in this case. The average validation loss is computed by summing the losses for all validation samples and then dividing by the number of validation samples. A lower average validation loss indicates better performance.\n",
    "#\n",
    "# 2. Validation accuracy: This metric measures the percentage of correctly classified samples in the validation set. The accuracy is calculated by counting the number of correct predictions, i.e., when the predicted label matches the true label, and then dividing by the total number of validation samples. A higher validation accuracy indicates better performance.\n",
    "#\n",
    "# These two metrics together provide a good evaluation of the model's performance on the validation set. The average validation loss helps assess the model's ability to minimize the loss function, while the validation accuracy measures how well the model is classifying the samples.\n",
    "\n",
    "\n",
    "def evaluate(val_loader, model, criterion, device):\n",
    "    model.eval()\n",
    "    running_loss = 0.0\n",
    "    correct = 0\n",
    "    total = 0\n",
    "\n",
    "    with torch.no_grad():\n",
    "        for inputs, targets in val_loader:\n",
    "            inputs = inputs.to(device)\n",
    "            targets = targets.to(device)\n",
    "\n",
    "            # Forward pass\n",
    "            outputs = model(inputs)\n",
    "\n",
    "            # Calculate loss\n",
    "            loss = criterion(outputs, targets)\n",
    "\n",
    "            # Update loss\n",
    "            running_loss += loss.item()\n",
    "\n",
    "            # Calculate accuracy\n",
    "            _, predicted = torch.max(outputs.data, 1)\n",
    "            total += targets.size(0)\n",
    "            correct += (predicted == targets).sum().item()\n",
    "\n",
    "    # Calculate average loss and accuracy\n",
    "    avg_loss = running_loss / len(val_loader)\n",
    "    accuracy = 100 * correct / total\n",
    "\n",
    "    return avg_loss, accuracy\n",
    "\n",
    "# Evaluate the model\n",
    "val_loss, val_accuracy = evaluate(val_loader, model, criterion, device)\n",
    "print(f\"Validation Loss: {val_loss:.4f}\")\n",
    "print(f\"Validation Accuracy: {val_accuracy:.2f}%\")"
   ],
   "metadata": {
    "collapsed": false,
    "ExecuteTime": {
     "start_time": "2023-04-27T03:35:16.920507Z",
     "end_time": "2023-04-27T03:35:17.079539Z"
    }
   }
  },
  {
   "cell_type": "code",
   "execution_count": 51,
   "outputs": [
    {
     "name": "stdout",
     "output_type": "stream",
     "text": [
      "Epoch: 1/20\n"
     ]
    },
    {
     "name": "stderr",
     "output_type": "stream",
     "text": [
      "Training: 100%|███████████████████████████████████████████████████████| 5/5 [00:01<00:00,  3.45it/s]\n"
     ]
    },
    {
     "name": "stdout",
     "output_type": "stream",
     "text": [
      "Train Loss: 1.5344 | Train Accuracy: 27.92%\n",
      "Validation Loss: 1.3972 | Validation Accuracy: 28.21%\n",
      "Epoch: 2/20\n"
     ]
    },
    {
     "name": "stderr",
     "output_type": "stream",
     "text": [
      "Training: 100%|███████████████████████████████████████████████████████| 5/5 [00:00<00:00,  8.16it/s]\n"
     ]
    },
    {
     "name": "stdout",
     "output_type": "stream",
     "text": [
      "Train Loss: 1.4038 | Train Accuracy: 11.04%\n",
      "Validation Loss: 1.4134 | Validation Accuracy: 0.00%\n",
      "Epoch: 3/20\n"
     ]
    },
    {
     "name": "stderr",
     "output_type": "stream",
     "text": [
      "Training: 100%|███████████████████████████████████████████████████████| 5/5 [00:00<00:00,  8.22it/s]\n"
     ]
    },
    {
     "name": "stdout",
     "output_type": "stream",
     "text": [
      "Train Loss: 1.4071 | Train Accuracy: 0.00%\n",
      "Validation Loss: 1.4044 | Validation Accuracy: 0.00%\n",
      "Epoch: 4/20\n"
     ]
    },
    {
     "name": "stderr",
     "output_type": "stream",
     "text": [
      "Training: 100%|███████████████████████████████████████████████████████| 5/5 [00:00<00:00,  8.20it/s]\n"
     ]
    },
    {
     "name": "stdout",
     "output_type": "stream",
     "text": [
      "Train Loss: 1.3946 | Train Accuracy: 11.69%\n",
      "Validation Loss: 1.3703 | Validation Accuracy: 38.46%\n",
      "Epoch: 5/20\n"
     ]
    },
    {
     "name": "stderr",
     "output_type": "stream",
     "text": [
      "Training: 100%|███████████████████████████████████████████████████████| 5/5 [00:00<00:00,  7.92it/s]\n"
     ]
    },
    {
     "name": "stdout",
     "output_type": "stream",
     "text": [
      "Train Loss: 1.3287 | Train Accuracy: 30.52%\n",
      "Validation Loss: 1.1926 | Validation Accuracy: 38.46%\n",
      "Epoch: 6/20\n"
     ]
    },
    {
     "name": "stderr",
     "output_type": "stream",
     "text": [
      "Training: 100%|███████████████████████████████████████████████████████| 5/5 [00:00<00:00,  8.08it/s]\n"
     ]
    },
    {
     "name": "stdout",
     "output_type": "stream",
     "text": [
      "Train Loss: 1.2555 | Train Accuracy: 31.82%\n",
      "Validation Loss: 1.1248 | Validation Accuracy: 28.21%\n",
      "Epoch: 7/20\n"
     ]
    },
    {
     "name": "stderr",
     "output_type": "stream",
     "text": [
      "Training: 100%|███████████████████████████████████████████████████████| 5/5 [00:00<00:00,  7.90it/s]\n"
     ]
    },
    {
     "name": "stdout",
     "output_type": "stream",
     "text": [
      "Train Loss: 1.1778 | Train Accuracy: 34.42%\n",
      "Validation Loss: 1.1701 | Validation Accuracy: 28.21%\n",
      "Epoch: 8/20\n"
     ]
    },
    {
     "name": "stderr",
     "output_type": "stream",
     "text": [
      "Training: 100%|███████████████████████████████████████████████████████| 5/5 [00:00<00:00,  8.14it/s]\n"
     ]
    },
    {
     "name": "stdout",
     "output_type": "stream",
     "text": [
      "Train Loss: 1.1805 | Train Accuracy: 34.42%\n",
      "Validation Loss: 1.1441 | Validation Accuracy: 28.21%\n",
      "Epoch: 9/20\n"
     ]
    },
    {
     "name": "stderr",
     "output_type": "stream",
     "text": [
      "Training: 100%|███████████████████████████████████████████████████████| 5/5 [00:00<00:00,  8.13it/s]\n"
     ]
    },
    {
     "name": "stdout",
     "output_type": "stream",
     "text": [
      "Train Loss: 1.1606 | Train Accuracy: 33.12%\n",
      "Validation Loss: 1.1044 | Validation Accuracy: 35.90%\n",
      "Epoch: 10/20\n"
     ]
    },
    {
     "name": "stderr",
     "output_type": "stream",
     "text": [
      "Training: 100%|███████████████████████████████████████████████████████| 5/5 [00:00<00:00,  8.14it/s]\n"
     ]
    },
    {
     "name": "stdout",
     "output_type": "stream",
     "text": [
      "Train Loss: 1.1410 | Train Accuracy: 25.32%\n",
      "Validation Loss: 1.1189 | Validation Accuracy: 38.46%\n",
      "Epoch: 11/20\n"
     ]
    },
    {
     "name": "stderr",
     "output_type": "stream",
     "text": [
      "Training: 100%|███████████████████████████████████████████████████████| 5/5 [00:00<00:00,  8.09it/s]\n"
     ]
    },
    {
     "name": "stdout",
     "output_type": "stream",
     "text": [
      "Train Loss: 1.1220 | Train Accuracy: 31.82%\n",
      "Validation Loss: 1.1061 | Validation Accuracy: 38.46%\n",
      "Epoch: 12/20\n"
     ]
    },
    {
     "name": "stderr",
     "output_type": "stream",
     "text": [
      "Training: 100%|███████████████████████████████████████████████████████| 5/5 [00:00<00:00,  8.16it/s]\n"
     ]
    },
    {
     "name": "stdout",
     "output_type": "stream",
     "text": [
      "Train Loss: 1.1029 | Train Accuracy: 33.77%\n",
      "Validation Loss: 1.1039 | Validation Accuracy: 33.33%\n",
      "Epoch: 13/20\n"
     ]
    },
    {
     "name": "stderr",
     "output_type": "stream",
     "text": [
      "Training: 100%|███████████████████████████████████████████████████████| 5/5 [00:00<00:00,  8.23it/s]\n"
     ]
    },
    {
     "name": "stdout",
     "output_type": "stream",
     "text": [
      "Train Loss: 1.1030 | Train Accuracy: 33.12%\n",
      "Validation Loss: 1.1022 | Validation Accuracy: 33.33%\n",
      "Epoch: 14/20\n"
     ]
    },
    {
     "name": "stderr",
     "output_type": "stream",
     "text": [
      "Training: 100%|███████████████████████████████████████████████████████| 5/5 [00:00<00:00,  8.23it/s]\n"
     ]
    },
    {
     "name": "stdout",
     "output_type": "stream",
     "text": [
      "Train Loss: 1.1102 | Train Accuracy: 32.47%\n",
      "Validation Loss: 1.1010 | Validation Accuracy: 25.64%\n",
      "Epoch: 15/20\n"
     ]
    },
    {
     "name": "stderr",
     "output_type": "stream",
     "text": [
      "Training: 100%|███████████████████████████████████████████████████████| 5/5 [00:00<00:00,  8.16it/s]\n"
     ]
    },
    {
     "name": "stdout",
     "output_type": "stream",
     "text": [
      "Train Loss: 1.0920 | Train Accuracy: 38.96%\n",
      "Validation Loss: 1.0951 | Validation Accuracy: 38.46%\n",
      "Epoch: 16/20\n"
     ]
    },
    {
     "name": "stderr",
     "output_type": "stream",
     "text": [
      "Training: 100%|███████████████████████████████████████████████████████| 5/5 [00:00<00:00,  8.21it/s]\n"
     ]
    },
    {
     "name": "stdout",
     "output_type": "stream",
     "text": [
      "Train Loss: 1.0742 | Train Accuracy: 49.35%\n",
      "Validation Loss: 1.0830 | Validation Accuracy: 38.46%\n",
      "Epoch: 17/20\n"
     ]
    },
    {
     "name": "stderr",
     "output_type": "stream",
     "text": [
      "Training: 100%|███████████████████████████████████████████████████████| 5/5 [00:00<00:00,  7.99it/s]\n"
     ]
    },
    {
     "name": "stdout",
     "output_type": "stream",
     "text": [
      "Train Loss: 1.0350 | Train Accuracy: 53.25%\n",
      "Validation Loss: 1.0484 | Validation Accuracy: 38.46%\n",
      "Epoch: 18/20\n"
     ]
    },
    {
     "name": "stderr",
     "output_type": "stream",
     "text": [
      "Training: 100%|███████████████████████████████████████████████████████| 5/5 [00:00<00:00,  8.03it/s]\n"
     ]
    },
    {
     "name": "stdout",
     "output_type": "stream",
     "text": [
      "Train Loss: 0.9348 | Train Accuracy: 48.70%\n",
      "Validation Loss: 0.9561 | Validation Accuracy: 51.28%\n",
      "Epoch: 19/20\n"
     ]
    },
    {
     "name": "stderr",
     "output_type": "stream",
     "text": [
      "Training: 100%|███████████████████████████████████████████████████████| 5/5 [00:00<00:00,  8.33it/s]\n"
     ]
    },
    {
     "name": "stdout",
     "output_type": "stream",
     "text": [
      "Train Loss: 0.9466 | Train Accuracy: 56.49%\n",
      "Validation Loss: 1.2193 | Validation Accuracy: 43.59%\n",
      "Epoch: 20/20\n"
     ]
    },
    {
     "name": "stderr",
     "output_type": "stream",
     "text": [
      "Training: 100%|███████████████████████████████████████████████████████| 5/5 [00:00<00:00,  8.22it/s]\n"
     ]
    },
    {
     "name": "stdout",
     "output_type": "stream",
     "text": [
      "Train Loss: 0.9796 | Train Accuracy: 47.40%\n",
      "Validation Loss: 1.0512 | Validation Accuracy: 43.59%\n",
      "Training finished.\n"
     ]
    }
   ],
   "source": [
    "# Initialize lists for storing loss and accuracy\n",
    "train_losses = []\n",
    "train_accuracies = []\n",
    "val_losses = []\n",
    "val_accuracies = []\n",
    "\n",
    "\n",
    "\n",
    "\n",
    "# Training loop\n",
    "# Training loop\n",
    "for epoch in range(num_epochs):\n",
    "    print(f\"Epoch: {epoch+1}/{num_epochs}\")\n",
    "\n",
    "    model.train()\n",
    "    running_loss = 0.0\n",
    "    correct = 0\n",
    "    total = 0\n",
    "\n",
    "    for i, (inputs, targets) in enumerate(tqdm(train_loader, desc=\"Training\", ncols=100)):\n",
    "        inputs = inputs.to(device)\n",
    "        targets = targets.to(device)\n",
    "\n",
    "        # Zero the parameter gradients\n",
    "        optimizer.zero_grad()\n",
    "\n",
    "        # Forward pass\n",
    "        outputs = model(inputs)\n",
    "\n",
    "        # Calculate loss\n",
    "        loss = criterion(outputs, targets)\n",
    "\n",
    "        # Backward pass\n",
    "        loss.backward()\n",
    "\n",
    "        # Optimize\n",
    "        optimizer.step()\n",
    "\n",
    "        # Update loss\n",
    "        running_loss += loss.item()\n",
    "\n",
    "        # Update total and correct\n",
    "        _, predicted = torch.max(outputs.data, 1)\n",
    "        total += targets.size(0)\n",
    "        correct += (predicted == targets).sum().item()\n",
    "\n",
    "    # Calculate average loss and accuracy for the epoch\n",
    "    epoch_loss = running_loss / len(train_loader)\n",
    "    epoch_accuracy = 100 * correct / total\n",
    "    train_losses.append(epoch_loss)\n",
    "    train_accuracies.append(epoch_accuracy)\n",
    "\n",
    "    # Validate and store the validation loss and accuracy\n",
    "    val_loss, val_accuracy = evaluate(val_loader, model, criterion, device)\n",
    "    val_losses.append(val_loss)\n",
    "    val_accuracies.append(val_accuracy)\n",
    "\n",
    "    print(f\"Train Loss: {epoch_loss:.4f} | Train Accuracy: {epoch_accuracy:.2f}%\")\n",
    "    print(f\"Validation Loss: {val_loss:.4f} | Validation Accuracy: {val_accuracy:.2f}%\")\n",
    "\n",
    "print(\"Training finished.\")\n",
    "\n"
   ],
   "metadata": {
    "collapsed": false,
    "ExecuteTime": {
     "start_time": "2023-04-27T03:33:00.705959Z",
     "end_time": "2023-04-27T03:33:16.781656Z"
    }
   }
  },
  {
   "cell_type": "code",
   "execution_count": 53,
   "outputs": [
    {
     "data": {
      "text/plain": "<Figure size 864x288 with 2 Axes>",
      "image/png": "[encoded data removed]"
     },
     "metadata": {
      "needs_background": "light"
     },
     "output_type": "display_data"
    }
   ],
   "source": [
    "# Plotting\n",
    "fig, (ax1, ax2) = plt.subplots(1, 2, figsize=(12, 4))\n",
    "\n",
    "# Loss\n",
    "ax1.plot(train_losses, label='Train')\n",
    "ax1.plot(val_losses, label='Validation')\n",
    "ax1.set_title('Loss')\n",
    "ax1.set_xlabel('Epoch')\n",
    "ax1.set_ylabel('Loss')\n",
    "ax1.legend()\n",
    "\n",
    "# Accuracy\n",
    "ax2.plot(train_accuracies, label='Train')\n",
    "ax2.plot(val_accuracies, label='Validation')\n",
    "ax2.set_title('Accuracy')\n",
    "ax2.set_xlabel('Epoch')\n",
    "ax2.set_ylabel('Accuracy (%)')\n",
    "ax2.legend()\n",
    "\n",
    "plt.show()"
   ],
   "metadata": {
    "collapsed": false,
    "ExecuteTime": {
     "start_time": "2023-04-27T03:35:22.409141Z",
     "end_time": "2023-04-27T03:35:22.671938Z"
    }
   }
  },
  {
   "cell_type": "code",
   "execution_count": 55,
   "outputs": [
    {
     "data": {
      "text/plain": "<Figure size 432x288 with 2 Axes>",
      "image/png": "[encoded data removed]"
     },
     "metadata": {
      "needs_background": "light"
     },
     "output_type": "display_data"
    },
    {
     "data": {
      "text/plain": "<Figure size 720x288 with 2 Axes>",
      "image/png": "[encoded data removed]"
     },
     "metadata": {
      "needs_background": "light"
     },
     "output_type": "display_data"
    }
   ],
   "source": [
    "def plot_confusion_matrix(y_true, y_pred, labels, ax=None, title=None):\n",
    "    cm = confusion_matrix(y_true, y_pred, labels=labels)\n",
    "    if ax is None:\n",
    "        _, ax = plt.subplots()\n",
    "    sns.heatmap(cm, annot=True, fmt=\"d\", cmap=\"YlGnBu\", ax=ax, xticklabels=labels, yticklabels=labels)\n",
    "    ax.set_xlabel(\"Predicted\")\n",
    "    ax.set_ylabel(\"True\")\n",
    "    if title:\n",
    "        ax.set_title(title)\n",
    "\n",
    "def get_weights_gradients(model):\n",
    "    weights = []\n",
    "    gradients = []\n",
    "    for name, param in model.named_parameters():\n",
    "        if param.requires_grad:\n",
    "            weights.append(param.data.cpu().numpy())\n",
    "            gradients.append(param.grad.data.cpu().numpy())\n",
    "    return weights, gradients\n",
    "\n",
    "def plot_histograms(weights, gradients, figsize=(10, 4)):\n",
    "    fig, (ax1, ax2) = plt.subplots(1, 2, figsize=figsize)\n",
    "\n",
    "    for w in weights:\n",
    "        ax1.hist(w.flatten(), bins=100, alpha=0.5)\n",
    "    ax1.set_title(\"Weights Histogram\")\n",
    "    ax1.set_xlabel(\"Value\")\n",
    "    ax1.set_ylabel(\"Frequency\")\n",
    "\n",
    "    for g in gradients:\n",
    "        ax2.hist(g.flatten(), bins=100, alpha=0.5)\n",
    "    ax2.set_title(\"Gradients Histogram\")\n",
    "    ax2.set_xlabel(\"Value\")\n",
    "    ax2.set_ylabel(\"Frequency\")\n",
    "\n",
    "    plt.show()\n",
    "\n",
    "# Get true labels and predictions on the validation set\n",
    "y_true = []\n",
    "y_pred = []\n",
    "model.eval()\n",
    "with torch.no_grad():\n",
    "    for inputs, targets in val_loader:\n",
    "        inputs = inputs.to(device)\n",
    "        targets = targets.to(device)\n",
    "        outputs = model(inputs)\n",
    "        _, predicted = torch.max(outputs.data, 1)\n",
    "        y_true.extend(targets.cpu().numpy())\n",
    "        y_pred.extend(predicted.cpu().numpy())\n",
    "\n",
    "# Plot confusion matrix\n",
    "plot_confusion_matrix(y_true, y_pred, labels=[0, 1], title=\"Confusion Matrix\")\n",
    "\n",
    "# Extract weights and gradients and plot histograms\n",
    "weights, gradients = get_weights_gradients(model)\n",
    "plot_histograms(weights, gradients)\n"
   ],
   "metadata": {
    "collapsed": false,
    "ExecuteTime": {
     "start_time": "2023-04-27T03:36:01.956969Z",
     "end_time": "2023-04-27T03:36:03.666217Z"
    }
   }
  },
  {
   "cell_type": "code",
   "execution_count": 56,
   "outputs": [
    {
     "name": "stdout",
     "output_type": "stream",
     "text": [
      "Model saved.\n"
     ]
    }
   ],
   "source": [
    "\n",
    "# Save the trained model\n",
    "torch.save(model.state_dict(), \"CNNModel_speech_music_discrimination.pth\")\n",
    "print(\"Model saved.\")\n",
    "\n",
    "\n"
   ],
   "metadata": {
    "collapsed": false,
    "ExecuteTime": {
     "start_time": "2023-04-27T03:36:07.610882Z",
     "end_time": "2023-04-27T03:36:07.630291Z"
    }
   }
  },
  {
   "cell_type": "code",
   "execution_count": 7,
   "outputs": [],
   "source": [],
   "metadata": {
    "collapsed": false,
    "ExecuteTime": {
     "start_time": "2023-04-27T00:10:53.981547Z",
     "end_time": "2023-04-27T00:10:53.982935Z"
    }
   }
  },
  {
   "cell_type": "code",
   "execution_count": 57,
   "outputs": [
    {
     "name": "stdout",
     "output_type": "stream",
     "text": [
      "\n",
      "Model summary:\n",
      "----------------------------------------------------------------\n",
      "        Layer (type)               Output Shape         Param #\n",
      "================================================================\n",
      "            Conv2d-1          [-1, 40, 20, 216]           1,040\n",
      "              ReLU-2          [-1, 40, 20, 216]               0\n",
      "            Conv2d-3          [-1, 80, 10, 108]          80,080\n",
      "              ReLU-4          [-1, 80, 10, 108]               0\n",
      "            Conv2d-5           [-1, 160, 5, 54]         320,160\n",
      "              ReLU-6           [-1, 160, 5, 54]               0\n",
      "   ConvTranspose2d-7          [-1, 80, 10, 108]         320,080\n",
      "              ReLU-8          [-1, 80, 10, 108]               0\n",
      "   ConvTranspose2d-9          [-1, 40, 20, 216]          80,040\n",
      "             ReLU-10          [-1, 40, 20, 216]               0\n",
      "  ConvTranspose2d-11          [-1, 40, 40, 432]          40,040\n",
      "             ReLU-12          [-1, 40, 40, 432]               0\n",
      "AdaptiveAvgPool2d-13             [-1, 40, 1, 1]               0\n",
      "           Linear-14                    [-1, 4]             164\n",
      "================================================================\n",
      "Total params: 841,604\n",
      "Trainable params: 841,604\n",
      "Non-trainable params: 0\n",
      "----------------------------------------------------------------\n",
      "Input size (MB): 0.07\n",
      "Forward/backward pass size (MB): 19.12\n",
      "Params size (MB): 3.21\n",
      "Estimated Total Size (MB): 22.39\n",
      "----------------------------------------------------------------\n"
     ]
    }
   ],
   "source": [
    "# Show model summary\n",
    "try:\n",
    "    from torchsummary import summary\n",
    "    print(\"\\nModel summary:\")\n",
    "\n",
    "    original_device = device\n",
    "    if device == 'mps': # because MPS is not supported by torchsummary\n",
    "        device = 'cpu'\n",
    "    model.to(device)\n",
    "\n",
    "    summary(model, input_size=(1, 40, 431), device=device)\n",
    "\n",
    "    if original_device == 'mps': # Restore original device\n",
    "        device = original_device\n",
    "        model.to(device)\n",
    "\n",
    "except ImportError:\n",
    "    print(\"\\nPlease install torchsummary to display the model summary. Use `pip install torchsummary`.\")"
   ],
   "metadata": {
    "collapsed": false,
    "ExecuteTime": {
     "start_time": "2023-04-27T03:36:10.740202Z",
     "end_time": "2023-04-27T03:36:10.801650Z"
    }
   }
  },
  {
   "cell_type": "code",
   "execution_count": null,
   "outputs": [],
   "source": [],
   "metadata": {
    "collapsed": false,
    "ExecuteTime": {
     "start_time": "2023-04-26T23:24:18.923913Z",
     "end_time": "2023-04-26T23:24:18.925867Z"
    }
   }
  },
  {
   "cell_type": "code",
   "execution_count": 7,
   "outputs": [],
   "source": [],
   "metadata": {
    "collapsed": false,
    "ExecuteTime": {
     "start_time": "2023-04-26T23:24:18.927041Z",
     "end_time": "2023-04-26T23:24:18.928678Z"
    }
   }
  },
  {
   "cell_type": "code",
   "execution_count": null,
   "outputs": [],
   "source": [],
   "metadata": {
    "collapsed": false
   }
  }
 ],
 "metadata": {
  "kernelspec": {
   "display_name": "Python 3",
   "language": "python",
   "name": "python3"
  },
  "language_info": {
   "codemirror_mode": {
    "name": "ipython",
    "version": 2
   },
   "file_extension": ".py",
   "mimetype": "text/x-python",
   "name": "python",
   "nbconvert_exporter": "python",
   "pygments_lexer": "ipython2",
   "version": "2.7.6"
  }
 },
 "nbformat": 4,
 "nbformat_minor": 0
}
