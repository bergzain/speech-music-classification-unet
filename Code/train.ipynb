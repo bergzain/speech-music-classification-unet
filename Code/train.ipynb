{
 "cells": [
  {
   "cell_type": "code",
   "execution_count": 3,
   "outputs": [],
   "source": [
    "AUDIO_DIR = \"/Users/zainhazzouri/projects/Bachelor_Thesis/Data/Kaggle/\"\n",
    "SAMPLE_RATE = 22050 # sample rate of the audio file\n",
    "bit_depth = 16 # bit depth of the audio file\n",
    "hop_length = 512\n",
    "n_mfcc =  20 # number of MFCCs features\n",
    "n_fft=1024, # window size\n",
    "n_mels = 256 # number of mel bands to generate\n",
    "win_length = None # window length\n",
    "\n",
    "\n",
    "# Training parameters\n",
    "batch_size = 32\n",
    "learning_rate = 0.001\n",
    "num_epochs = 20\n",
    "\n",
    "\n"
   ],
   "metadata": {
    "collapsed": false,
    "ExecuteTime": {
     "start_time": "2023-04-27T13:52:02.140021Z",
     "end_time": "2023-04-27T13:52:02.144737Z"
    }
   }
  },
  {
   "cell_type": "code",
   "execution_count": 7,
   "outputs": [],
   "source": [
    "import torch\n",
    "import torch.nn as nn\n",
    "import torch.optim as optim\n",
    "from torch.utils.data import Dataset, DataLoader\n",
    "from tqdm import tqdm\n",
    "import seaborn as sns\n",
    "import matplotlib.pyplot as plt\n",
    "from sklearn.metrics import precision_recall_fscore_support, matthews_corrcoef,confusion_matrix\n",
    "\n",
    "\n",
    "from cnn_model import CNNModel\n",
    "from datapreprocessing import AudioProcessor\n"
   ],
   "metadata": {
    "collapsed": false,
    "ExecuteTime": {
     "start_time": "2023-04-27T13:52:37.176586Z",
     "end_time": "2023-04-27T13:52:38.558782Z"
    }
   }
  },
  {
   "cell_type": "code",
   "execution_count": 8,
   "outputs": [
    {
     "name": "stdout",
     "output_type": "stream",
     "text": [
      "Using mps\n"
     ]
    }
   ],
   "source": [
    "# Set device\n",
    "if torch.cuda.is_available():\n",
    "    device = \"cuda\"\n",
    "elif torch.backends.mps.is_built():  # if you have apple silicon mac\n",
    "    device = \"mps\"  # if it doesn't work try device = torch.device('mps')\n",
    "else:\n",
    "    device = \"cpu\"\n",
    "print(f\"Using {device}\")"
   ],
   "metadata": {
    "collapsed": false,
    "ExecuteTime": {
     "start_time": "2023-04-27T13:52:39.141726Z",
     "end_time": "2023-04-27T13:52:39.146375Z"
    }
   }
  },
  {
   "cell_type": "code",
   "execution_count": 12,
   "outputs": [
    {
     "name": "stdout",
     "output_type": "stream",
     "text": [
      "Music waves: ['/Users/zainhazzouri/projects/Bachelor_Thesis/Data/Kaggle/music_wav/glass1.wav', '/Users/zainhazzouri/projects/Bachelor_Thesis/Data/Kaggle/music_wav/classical1.wav', '/Users/zainhazzouri/projects/Bachelor_Thesis/Data/Kaggle/music_wav/marlene.wav', '/Users/zainhazzouri/projects/Bachelor_Thesis/Data/Kaggle/music_wav/rock2.wav', '/Users/zainhazzouri/projects/Bachelor_Thesis/Data/Kaggle/music_wav/hendrix.wav', '/Users/zainhazzouri/projects/Bachelor_Thesis/Data/Kaggle/music_wav/beatles.wav', '/Users/zainhazzouri/projects/Bachelor_Thesis/Data/Kaggle/music_wav/ipanema.wav', '/Users/zainhazzouri/projects/Bachelor_Thesis/Data/Kaggle/music_wav/deedee1.wav', '/Users/zainhazzouri/projects/Bachelor_Thesis/Data/Kaggle/music_wav/classical2.wav', '/Users/zainhazzouri/projects/Bachelor_Thesis/Data/Kaggle/music_wav/birdland.wav', '/Users/zainhazzouri/projects/Bachelor_Thesis/Data/Kaggle/music_wav/bigband.wav', '/Users/zainhazzouri/projects/Bachelor_Thesis/Data/Kaggle/music_wav/classical.wav', '/Users/zainhazzouri/projects/Bachelor_Thesis/Data/Kaggle/music_wav/rock.wav', '/Users/zainhazzouri/projects/Bachelor_Thesis/Data/Kaggle/music_wav/blues.wav', '/Users/zainhazzouri/projects/Bachelor_Thesis/Data/Kaggle/music_wav/chaka.wav', '/Users/zainhazzouri/projects/Bachelor_Thesis/Data/Kaggle/music_wav/gismonti.wav', '/Users/zainhazzouri/projects/Bachelor_Thesis/Data/Kaggle/music_wav/duke.wav', '/Users/zainhazzouri/projects/Bachelor_Thesis/Data/Kaggle/music_wav/redhot.wav', '/Users/zainhazzouri/projects/Bachelor_Thesis/Data/Kaggle/music_wav/nearhou.wav', '/Users/zainhazzouri/projects/Bachelor_Thesis/Data/Kaggle/music_wav/moanin.wav', '/Users/zainhazzouri/projects/Bachelor_Thesis/Data/Kaggle/music_wav/loreena.wav', '/Users/zainhazzouri/projects/Bachelor_Thesis/Data/Kaggle/music_wav/copland.wav', '/Users/zainhazzouri/projects/Bachelor_Thesis/Data/Kaggle/music_wav/russo.wav', '/Users/zainhazzouri/projects/Bachelor_Thesis/Data/Kaggle/music_wav/jazz1.wav', '/Users/zainhazzouri/projects/Bachelor_Thesis/Data/Kaggle/music_wav/echoes.wav', '/Users/zainhazzouri/projects/Bachelor_Thesis/Data/Kaggle/music_wav/bagpipe.wav', '/Users/zainhazzouri/projects/Bachelor_Thesis/Data/Kaggle/music_wav/copland2.wav', '/Users/zainhazzouri/projects/Bachelor_Thesis/Data/Kaggle/music_wav/mingus1.wav', '/Users/zainhazzouri/projects/Bachelor_Thesis/Data/Kaggle/music_wav/tony.wav', '/Users/zainhazzouri/projects/Bachelor_Thesis/Data/Kaggle/music_wav/u2.wav', '/Users/zainhazzouri/projects/Bachelor_Thesis/Data/Kaggle/music_wav/gravity.wav', '/Users/zainhazzouri/projects/Bachelor_Thesis/Data/Kaggle/music_wav/misirlou.wav', '/Users/zainhazzouri/projects/Bachelor_Thesis/Data/Kaggle/music_wav/prodigy.wav', '/Users/zainhazzouri/projects/Bachelor_Thesis/Data/Kaggle/music_wav/glass.wav', '/Users/zainhazzouri/projects/Bachelor_Thesis/Data/Kaggle/music_wav/corea1.wav', '/Users/zainhazzouri/projects/Bachelor_Thesis/Data/Kaggle/music_wav/guitar.wav', '/Users/zainhazzouri/projects/Bachelor_Thesis/Data/Kaggle/music_wav/beat.wav', '/Users/zainhazzouri/projects/Bachelor_Thesis/Data/Kaggle/music_wav/narch.wav', '/Users/zainhazzouri/projects/Bachelor_Thesis/Data/Kaggle/music_wav/georose.wav', '/Users/zainhazzouri/projects/Bachelor_Thesis/Data/Kaggle/music_wav/caravan.wav', '/Users/zainhazzouri/projects/Bachelor_Thesis/Data/Kaggle/music_wav/magkas.wav', '/Users/zainhazzouri/projects/Bachelor_Thesis/Data/Kaggle/music_wav/bmarsalis.wav', '/Users/zainhazzouri/projects/Bachelor_Thesis/Data/Kaggle/music_wav/mingus.wav', '/Users/zainhazzouri/projects/Bachelor_Thesis/Data/Kaggle/music_wav/ncherry.wav', '/Users/zainhazzouri/projects/Bachelor_Thesis/Data/Kaggle/music_wav/vlobos.wav', '/Users/zainhazzouri/projects/Bachelor_Thesis/Data/Kaggle/music_wav/brahms.wav', '/Users/zainhazzouri/projects/Bachelor_Thesis/Data/Kaggle/music_wav/unpoco.wav', '/Users/zainhazzouri/projects/Bachelor_Thesis/Data/Kaggle/music_wav/march.wav', '/Users/zainhazzouri/projects/Bachelor_Thesis/Data/Kaggle/music_wav/led.wav', '/Users/zainhazzouri/projects/Bachelor_Thesis/Data/Kaggle/music_wav/eguitar.wav', '/Users/zainhazzouri/projects/Bachelor_Thesis/Data/Kaggle/music_wav/deedee.wav', '/Users/zainhazzouri/projects/Bachelor_Thesis/Data/Kaggle/music_wav/canonaki.wav', '/Users/zainhazzouri/projects/Bachelor_Thesis/Data/Kaggle/music_wav/ballad.wav', '/Users/zainhazzouri/projects/Bachelor_Thesis/Data/Kaggle/music_wav/jazz.wav', '/Users/zainhazzouri/projects/Bachelor_Thesis/Data/Kaggle/music_wav/cure.wav', '/Users/zainhazzouri/projects/Bachelor_Thesis/Data/Kaggle/music_wav/opera1.wav', '/Users/zainhazzouri/projects/Bachelor_Thesis/Data/Kaggle/music_wav/debussy.wav', '/Users/zainhazzouri/projects/Bachelor_Thesis/Data/Kaggle/music_wav/pop.wav', '/Users/zainhazzouri/projects/Bachelor_Thesis/Data/Kaggle/music_wav/corea.wav', '/Users/zainhazzouri/projects/Bachelor_Thesis/Data/Kaggle/music_wav/opera.wav', '/Users/zainhazzouri/projects/Bachelor_Thesis/Data/Kaggle/music_wav/madradeus.wav', '/Users/zainhazzouri/projects/Bachelor_Thesis/Data/Kaggle/music_wav/bartok.wav', '/Users/zainhazzouri/projects/Bachelor_Thesis/Data/Kaggle/music_wav/winds.wav', '/Users/zainhazzouri/projects/Bachelor_Thesis/Data/Kaggle/music_wav/gravity2.wav']\n",
      "Speech waves: ['/Users/zainhazzouri/projects/Bachelor_Thesis/Data/Kaggle/speech_wav/god.wav', '/Users/zainhazzouri/projects/Bachelor_Thesis/Data/Kaggle/speech_wav/teachers1.wav', '/Users/zainhazzouri/projects/Bachelor_Thesis/Data/Kaggle/speech_wav/dialogue1.wav', '/Users/zainhazzouri/projects/Bachelor_Thesis/Data/Kaggle/speech_wav/amal.wav', '/Users/zainhazzouri/projects/Bachelor_Thesis/Data/Kaggle/speech_wav/serbian.wav', '/Users/zainhazzouri/projects/Bachelor_Thesis/Data/Kaggle/speech_wav/undergrad.wav', '/Users/zainhazzouri/projects/Bachelor_Thesis/Data/Kaggle/speech_wav/male.wav', '/Users/zainhazzouri/projects/Bachelor_Thesis/Data/Kaggle/speech_wav/teachers2.wav', '/Users/zainhazzouri/projects/Bachelor_Thesis/Data/Kaggle/speech_wav/dialogue2.wav', '/Users/zainhazzouri/projects/Bachelor_Thesis/Data/Kaggle/speech_wav/geography1.wav', '/Users/zainhazzouri/projects/Bachelor_Thesis/Data/Kaggle/speech_wav/jvoice.wav', '/Users/zainhazzouri/projects/Bachelor_Thesis/Data/Kaggle/speech_wav/danie.wav', '/Users/zainhazzouri/projects/Bachelor_Thesis/Data/Kaggle/speech_wav/jony.wav', '/Users/zainhazzouri/projects/Bachelor_Thesis/Data/Kaggle/speech_wav/bathroom1.wav', '/Users/zainhazzouri/projects/Bachelor_Thesis/Data/Kaggle/speech_wav/pulp2.wav', '/Users/zainhazzouri/projects/Bachelor_Thesis/Data/Kaggle/speech_wav/comedy.wav', '/Users/zainhazzouri/projects/Bachelor_Thesis/Data/Kaggle/speech_wav/ellhnika.wav', '/Users/zainhazzouri/projects/Bachelor_Thesis/Data/Kaggle/speech_wav/comedy1.wav', '/Users/zainhazzouri/projects/Bachelor_Thesis/Data/Kaggle/speech_wav/pulp1.wav', '/Users/zainhazzouri/projects/Bachelor_Thesis/Data/Kaggle/speech_wav/my_voice.wav', '/Users/zainhazzouri/projects/Bachelor_Thesis/Data/Kaggle/speech_wav/lena.wav', '/Users/zainhazzouri/projects/Bachelor_Thesis/Data/Kaggle/speech_wav/pulp.wav', '/Users/zainhazzouri/projects/Bachelor_Thesis/Data/Kaggle/speech_wav/thlui.wav', '/Users/zainhazzouri/projects/Bachelor_Thesis/Data/Kaggle/speech_wav/conversion.wav', '/Users/zainhazzouri/projects/Bachelor_Thesis/Data/Kaggle/speech_wav/vegetables1.wav', '/Users/zainhazzouri/projects/Bachelor_Thesis/Data/Kaggle/speech_wav/stupid.wav', '/Users/zainhazzouri/projects/Bachelor_Thesis/Data/Kaggle/speech_wav/smoking.wav', '/Users/zainhazzouri/projects/Bachelor_Thesis/Data/Kaggle/speech_wav/acomic.wav', '/Users/zainhazzouri/projects/Bachelor_Thesis/Data/Kaggle/speech_wav/china.wav', '/Users/zainhazzouri/projects/Bachelor_Thesis/Data/Kaggle/speech_wav/relation.wav', '/Users/zainhazzouri/projects/Bachelor_Thesis/Data/Kaggle/speech_wav/vegetables2.wav', '/Users/zainhazzouri/projects/Bachelor_Thesis/Data/Kaggle/speech_wav/teachers.wav', '/Users/zainhazzouri/projects/Bachelor_Thesis/Data/Kaggle/speech_wav/sleep.wav', '/Users/zainhazzouri/projects/Bachelor_Thesis/Data/Kaggle/speech_wav/fire.wav', '/Users/zainhazzouri/projects/Bachelor_Thesis/Data/Kaggle/speech_wav/danie1.wav', '/Users/zainhazzouri/projects/Bachelor_Thesis/Data/Kaggle/speech_wav/charles.wav', '/Users/zainhazzouri/projects/Bachelor_Thesis/Data/Kaggle/speech_wav/shannon.wav', '/Users/zainhazzouri/projects/Bachelor_Thesis/Data/Kaggle/speech_wav/nj105.wav', '/Users/zainhazzouri/projects/Bachelor_Thesis/Data/Kaggle/speech_wav/voice.wav', '/Users/zainhazzouri/projects/Bachelor_Thesis/Data/Kaggle/speech_wav/chant.wav', '/Users/zainhazzouri/projects/Bachelor_Thesis/Data/Kaggle/speech_wav/india.wav', '/Users/zainhazzouri/projects/Bachelor_Thesis/Data/Kaggle/speech_wav/greek1.wav', '/Users/zainhazzouri/projects/Bachelor_Thesis/Data/Kaggle/speech_wav/acomic2.wav', '/Users/zainhazzouri/projects/Bachelor_Thesis/Data/Kaggle/speech_wav/psychic.wav', '/Users/zainhazzouri/projects/Bachelor_Thesis/Data/Kaggle/speech_wav/kedar.wav', '/Users/zainhazzouri/projects/Bachelor_Thesis/Data/Kaggle/speech_wav/smoke1.wav', '/Users/zainhazzouri/projects/Bachelor_Thesis/Data/Kaggle/speech_wav/voices.wav', '/Users/zainhazzouri/projects/Bachelor_Thesis/Data/Kaggle/speech_wav/kid.wav', '/Users/zainhazzouri/projects/Bachelor_Thesis/Data/Kaggle/speech_wav/vegetables.wav', '/Users/zainhazzouri/projects/Bachelor_Thesis/Data/Kaggle/speech_wav/georg.wav', '/Users/zainhazzouri/projects/Bachelor_Thesis/Data/Kaggle/speech_wav/nether.wav', '/Users/zainhazzouri/projects/Bachelor_Thesis/Data/Kaggle/speech_wav/news2.wav', '/Users/zainhazzouri/projects/Bachelor_Thesis/Data/Kaggle/speech_wav/female.wav', '/Users/zainhazzouri/projects/Bachelor_Thesis/Data/Kaggle/speech_wav/news1.wav', '/Users/zainhazzouri/projects/Bachelor_Thesis/Data/Kaggle/speech_wav/emil.wav', '/Users/zainhazzouri/projects/Bachelor_Thesis/Data/Kaggle/speech_wav/diamond.wav', '/Users/zainhazzouri/projects/Bachelor_Thesis/Data/Kaggle/speech_wav/fem_rock.wav', '/Users/zainhazzouri/projects/Bachelor_Thesis/Data/Kaggle/speech_wav/greek.wav', '/Users/zainhazzouri/projects/Bachelor_Thesis/Data/Kaggle/speech_wav/nj105a.wav', '/Users/zainhazzouri/projects/Bachelor_Thesis/Data/Kaggle/speech_wav/oneday.wav', '/Users/zainhazzouri/projects/Bachelor_Thesis/Data/Kaggle/speech_wav/geography.wav', '/Users/zainhazzouri/projects/Bachelor_Thesis/Data/Kaggle/speech_wav/dialogue.wav', '/Users/zainhazzouri/projects/Bachelor_Thesis/Data/Kaggle/speech_wav/austria.wav', '/Users/zainhazzouri/projects/Bachelor_Thesis/Data/Kaggle/speech_wav/allison.wav']\n",
      "Mix waves: []\n",
      "Silence waves: []\n"
     ]
    }
   ],
   "source": [
    "# Create an instance of AudioProcessor\n",
    "audio_processor = AudioProcessor(AUDIO_DIR)\n",
    "\n",
    "# Create the dataset using the audio_processor instance\n",
    "dataset = audio_processor\n",
    "\n",
    "\n",
    "# Split the dataset into training and validation sets\n",
    "train_size = int(0.8 * len(dataset))\n",
    "val_size = len(dataset) - train_size\n",
    "train_dataset, val_dataset = torch.utils.data.random_split(dataset, [train_size, val_size])\n",
    "\n",
    "# Create DataLoader\n",
    "train_loader = DataLoader(train_dataset, batch_size=batch_size, shuffle=True)\n",
    "val_loader = DataLoader(val_dataset, batch_size=batch_size, shuffle=False)\n",
    "\n",
    "# Initialize model, loss, and optimizer\n",
    "model = CNNModel().to(device)\n",
    "criterion = nn.CrossEntropyLoss()\n",
    "optimizer = optim.Adam(model.parameters(), lr=learning_rate)\n"
   ],
   "metadata": {
    "collapsed": false,
    "ExecuteTime": {
     "start_time": "2023-04-27T13:54:07.960061Z",
     "end_time": "2023-04-27T13:54:07.977399Z"
    }
   }
  },
  {
   "cell_type": "code",
   "execution_count": 13,
   "outputs": [
    {
     "name": "stdout",
     "output_type": "stream",
     "text": [
      "Dataset length: 128\n"
     ]
    }
   ],
   "source": [
    "print(\"Dataset length:\", len(dataset))\n"
   ],
   "metadata": {
    "collapsed": false,
    "ExecuteTime": {
     "start_time": "2023-04-27T13:54:08.375822Z",
     "end_time": "2023-04-27T13:54:08.378821Z"
    }
   }
  },
  {
   "cell_type": "code",
   "execution_count": 14,
   "outputs": [
    {
     "name": "stdout",
     "output_type": "stream",
     "text": [
      "Validation Loss: 1.4089\n",
      "Validation Accuracy: 0.00%\n",
      "Validation Precision: 0.0000\n",
      "Validation Recall: 0.0000\n",
      "Validation F1-score: 0.0000\n",
      "Validation MCC: 0.0000\n"
     ]
    },
    {
     "name": "stderr",
     "output_type": "stream",
     "text": [
      "/Users/zainhazzouri/miniforge3/envs/Bachelor_Thesis/lib/python3.8/site-packages/sklearn/metrics/_classification.py:1344: UndefinedMetricWarning: Precision and F-score are ill-defined and being set to 0.0 in labels with no predicted samples. Use `zero_division` parameter to control this behavior.\n",
      "  _warn_prf(average, modifier, msg_start, len(result))\n",
      "/Users/zainhazzouri/miniforge3/envs/Bachelor_Thesis/lib/python3.8/site-packages/sklearn/metrics/_classification.py:1344: UndefinedMetricWarning: Recall and F-score are ill-defined and being set to 0.0 in labels with no true samples. Use `zero_division` parameter to control this behavior.\n",
      "  _warn_prf(average, modifier, msg_start, len(result))\n"
     ]
    }
   ],
   "source": [
    "def evaluate(val_loader, model, criterion, device):\n",
    "    model.eval()\n",
    "    running_loss = 0.0\n",
    "    correct = 0\n",
    "    total = 0\n",
    "    all_targets = []\n",
    "    all_predictions = []\n",
    "\n",
    "    with torch.no_grad():\n",
    "        for inputs, targets in val_loader:\n",
    "            inputs = inputs.to(device)\n",
    "            targets = targets.to(device)\n",
    "\n",
    "            # Forward pass\n",
    "            outputs = model(inputs)\n",
    "\n",
    "            # Calculate loss\n",
    "            loss = criterion(outputs, targets)\n",
    "\n",
    "            # Update loss\n",
    "            running_loss += loss.item()\n",
    "\n",
    "            # Calculate accuracy\n",
    "            _, predicted = torch.max(outputs.data, 1)\n",
    "            total += targets.size(0)\n",
    "            correct += (predicted == targets).sum().item()\n",
    "\n",
    "            # Store targets and predictions for metrics calculation\n",
    "            all_targets.extend(targets.cpu().numpy())\n",
    "            all_predictions.extend(predicted.cpu().numpy())\n",
    "\n",
    "    # Calculate average loss and accuracy\n",
    "    avg_loss = running_loss / len(val_loader)\n",
    "    accuracy = 100 * correct / total\n",
    "\n",
    "    # Calculate precision, recall, F1-score, and MCC\n",
    "    precision, recall, f1_score, _ = precision_recall_fscore_support(all_targets, all_predictions, average='weighted')\n",
    "    mcc = matthews_corrcoef(all_targets, all_predictions)\n",
    "\n",
    "    return avg_loss, accuracy, precision, recall, f1_score, mcc\n",
    "\n",
    "    # Evaluate the model\n",
    "    val_loss, val_accuracy, val_precision, val_recall, val_f1_score, val_mcc = evaluate(val_loader, model, criterion, device)\n",
    "    print(f\"Validation Loss: {val_loss:.4f}\")\n",
    "    print(f\"Validation Accuracy: {val_accuracy:.2f}%\")\n",
    "    print(f\"Validation Precision: {val_precision:.4f}\")\n",
    "    print(f\"Validation Recall: {val_recall:.4f}\")\n",
    "    print(f\"Validation F1-score: {val_f1_score:.4f}\")\n",
    "    print(f\"Validation MCC: {val_mcc:.4f}\")"
   ],
   "metadata": {
    "collapsed": false,
    "ExecuteTime": {
     "start_time": "2023-04-27T13:54:09.664004Z",
     "end_time": "2023-04-27T13:54:09.841023Z"
    }
   }
  },
  {
   "cell_type": "code",
   "execution_count": 15,
   "outputs": [
    {
     "name": "stdout",
     "output_type": "stream",
     "text": [
      "Epoch: 1/20\n"
     ]
    },
    {
     "name": "stderr",
     "output_type": "stream",
     "text": [
      "Training:   0%|                                                               | 0/4 [00:00<?, ?it/s]/Users/zainhazzouri/miniforge3/envs/Bachelor_Thesis/lib/python3.8/site-packages/torchaudio/functional/functional.py:576: UserWarning: At least one mel filterbank has all zero values. The value for `n_mels` (128) may be set too high. Or, the value for `n_freqs` (201) may be set too low.\n",
      "  warnings.warn(\n",
      "Training: 100%|███████████████████████████████████████████████████████| 4/4 [00:00<00:00,  8.64it/s]\n",
      "/Users/zainhazzouri/miniforge3/envs/Bachelor_Thesis/lib/python3.8/site-packages/sklearn/metrics/_classification.py:1344: UndefinedMetricWarning: Precision and F-score are ill-defined and being set to 0.0 in labels with no predicted samples. Use `zero_division` parameter to control this behavior.\n",
      "  _warn_prf(average, modifier, msg_start, len(result))\n"
     ]
    },
    {
     "name": "stdout",
     "output_type": "stream",
     "text": [
      "Train Loss: 1.7945 | Train Accuracy: 31.37%\n",
      "Validation Loss: 0.6847 | Validation Accuracy: 53.85%\n",
      "Validation Precision: 0.2899\n",
      "Validation Recall: 0.5385\n",
      "Validation F1-score: 0.3769\n",
      "Validation MCC: 0.0000\n",
      "Epoch: 2/20\n"
     ]
    },
    {
     "name": "stderr",
     "output_type": "stream",
     "text": [
      "Training:   0%|                                                               | 0/4 [00:00<?, ?it/s]/Users/zainhazzouri/miniforge3/envs/Bachelor_Thesis/lib/python3.8/site-packages/torchaudio/functional/functional.py:576: UserWarning: At least one mel filterbank has all zero values. The value for `n_mels` (128) may be set too high. Or, the value for `n_freqs` (201) may be set too low.\n",
      "  warnings.warn(\n",
      "Training: 100%|███████████████████████████████████████████████████████| 4/4 [00:00<00:00,  9.25it/s]\n",
      "/Users/zainhazzouri/miniforge3/envs/Bachelor_Thesis/lib/python3.8/site-packages/sklearn/metrics/_classification.py:1344: UndefinedMetricWarning: Precision and F-score are ill-defined and being set to 0.0 in labels with no predicted samples. Use `zero_division` parameter to control this behavior.\n",
      "  _warn_prf(average, modifier, msg_start, len(result))\n"
     ]
    },
    {
     "name": "stdout",
     "output_type": "stream",
     "text": [
      "Train Loss: 0.8812 | Train Accuracy: 49.02%\n",
      "Validation Loss: 1.1197 | Validation Accuracy: 53.85%\n",
      "Validation Precision: 0.2899\n",
      "Validation Recall: 0.5385\n",
      "Validation F1-score: 0.3769\n",
      "Validation MCC: 0.0000\n",
      "Epoch: 3/20\n"
     ]
    },
    {
     "name": "stderr",
     "output_type": "stream",
     "text": [
      "Training:   0%|                                                               | 0/4 [00:00<?, ?it/s]/Users/zainhazzouri/miniforge3/envs/Bachelor_Thesis/lib/python3.8/site-packages/torchaudio/functional/functional.py:576: UserWarning: At least one mel filterbank has all zero values. The value for `n_mels` (128) may be set too high. Or, the value for `n_freqs` (201) may be set too low.\n",
      "  warnings.warn(\n",
      "Training: 100%|███████████████████████████████████████████████████████| 4/4 [00:00<00:00,  9.26it/s]\n",
      "/Users/zainhazzouri/miniforge3/envs/Bachelor_Thesis/lib/python3.8/site-packages/sklearn/metrics/_classification.py:1344: UndefinedMetricWarning: Precision and F-score are ill-defined and being set to 0.0 in labels with no predicted samples. Use `zero_division` parameter to control this behavior.\n",
      "  _warn_prf(average, modifier, msg_start, len(result))\n"
     ]
    },
    {
     "name": "stdout",
     "output_type": "stream",
     "text": [
      "Train Loss: 1.1012 | Train Accuracy: 49.02%\n",
      "Validation Loss: 0.8973 | Validation Accuracy: 53.85%\n",
      "Validation Precision: 0.2899\n",
      "Validation Recall: 0.5385\n",
      "Validation F1-score: 0.3769\n",
      "Validation MCC: 0.0000\n",
      "Epoch: 4/20\n"
     ]
    },
    {
     "name": "stderr",
     "output_type": "stream",
     "text": [
      "Training:   0%|                                                               | 0/4 [00:00<?, ?it/s]/Users/zainhazzouri/miniforge3/envs/Bachelor_Thesis/lib/python3.8/site-packages/torchaudio/functional/functional.py:576: UserWarning: At least one mel filterbank has all zero values. The value for `n_mels` (128) may be set too high. Or, the value for `n_freqs` (201) may be set too low.\n",
      "  warnings.warn(\n",
      "Training: 100%|███████████████████████████████████████████████████████| 4/4 [00:00<00:00,  9.47it/s]\n",
      "/Users/zainhazzouri/miniforge3/envs/Bachelor_Thesis/lib/python3.8/site-packages/sklearn/metrics/_classification.py:1344: UndefinedMetricWarning: Precision and F-score are ill-defined and being set to 0.0 in labels with no predicted samples. Use `zero_division` parameter to control this behavior.\n",
      "  _warn_prf(average, modifier, msg_start, len(result))\n"
     ]
    },
    {
     "name": "stdout",
     "output_type": "stream",
     "text": [
      "Train Loss: 1.0132 | Train Accuracy: 49.02%\n",
      "Validation Loss: 0.8119 | Validation Accuracy: 53.85%\n",
      "Validation Precision: 0.2899\n",
      "Validation Recall: 0.5385\n",
      "Validation F1-score: 0.3769\n",
      "Validation MCC: 0.0000\n",
      "Epoch: 5/20\n"
     ]
    },
    {
     "name": "stderr",
     "output_type": "stream",
     "text": [
      "Training:   0%|                                                               | 0/4 [00:00<?, ?it/s]/Users/zainhazzouri/miniforge3/envs/Bachelor_Thesis/lib/python3.8/site-packages/torchaudio/functional/functional.py:576: UserWarning: At least one mel filterbank has all zero values. The value for `n_mels` (128) may be set too high. Or, the value for `n_freqs` (201) may be set too low.\n",
      "  warnings.warn(\n",
      "Training: 100%|███████████████████████████████████████████████████████| 4/4 [00:00<00:00,  8.89it/s]\n",
      "/Users/zainhazzouri/miniforge3/envs/Bachelor_Thesis/lib/python3.8/site-packages/sklearn/metrics/_classification.py:1344: UndefinedMetricWarning: Precision and F-score are ill-defined and being set to 0.0 in labels with no predicted samples. Use `zero_division` parameter to control this behavior.\n",
      "  _warn_prf(average, modifier, msg_start, len(result))\n"
     ]
    },
    {
     "name": "stdout",
     "output_type": "stream",
     "text": [
      "Train Loss: 0.8492 | Train Accuracy: 49.02%\n",
      "Validation Loss: 0.8013 | Validation Accuracy: 53.85%\n",
      "Validation Precision: 0.2899\n",
      "Validation Recall: 0.5385\n",
      "Validation F1-score: 0.3769\n",
      "Validation MCC: 0.0000\n",
      "Epoch: 6/20\n"
     ]
    },
    {
     "name": "stderr",
     "output_type": "stream",
     "text": [
      "Training:   0%|                                                               | 0/4 [00:00<?, ?it/s]/Users/zainhazzouri/miniforge3/envs/Bachelor_Thesis/lib/python3.8/site-packages/torchaudio/functional/functional.py:576: UserWarning: At least one mel filterbank has all zero values. The value for `n_mels` (128) may be set too high. Or, the value for `n_freqs` (201) may be set too low.\n",
      "  warnings.warn(\n",
      "Training: 100%|███████████████████████████████████████████████████████| 4/4 [00:00<00:00,  9.26it/s]\n",
      "/Users/zainhazzouri/miniforge3/envs/Bachelor_Thesis/lib/python3.8/site-packages/sklearn/metrics/_classification.py:1344: UndefinedMetricWarning: Precision and F-score are ill-defined and being set to 0.0 in labels with no predicted samples. Use `zero_division` parameter to control this behavior.\n",
      "  _warn_prf(average, modifier, msg_start, len(result))\n"
     ]
    },
    {
     "name": "stdout",
     "output_type": "stream",
     "text": [
      "Train Loss: 0.7968 | Train Accuracy: 49.02%\n",
      "Validation Loss: 0.6945 | Validation Accuracy: 53.85%\n",
      "Validation Precision: 0.2899\n",
      "Validation Recall: 0.5385\n",
      "Validation F1-score: 0.3769\n",
      "Validation MCC: 0.0000\n",
      "Epoch: 7/20\n"
     ]
    },
    {
     "name": "stderr",
     "output_type": "stream",
     "text": [
      "Training:   0%|                                                               | 0/4 [00:00<?, ?it/s]/Users/zainhazzouri/miniforge3/envs/Bachelor_Thesis/lib/python3.8/site-packages/torchaudio/functional/functional.py:576: UserWarning: At least one mel filterbank has all zero values. The value for `n_mels` (128) may be set too high. Or, the value for `n_freqs` (201) may be set too low.\n",
      "  warnings.warn(\n",
      "Training: 100%|███████████████████████████████████████████████████████| 4/4 [00:00<00:00,  9.38it/s]\n",
      "/Users/zainhazzouri/miniforge3/envs/Bachelor_Thesis/lib/python3.8/site-packages/sklearn/metrics/_classification.py:1344: UndefinedMetricWarning: Precision and F-score are ill-defined and being set to 0.0 in labels with no predicted samples. Use `zero_division` parameter to control this behavior.\n",
      "  _warn_prf(average, modifier, msg_start, len(result))\n"
     ]
    },
    {
     "name": "stdout",
     "output_type": "stream",
     "text": [
      "Train Loss: 0.6993 | Train Accuracy: 45.10%\n",
      "Validation Loss: 0.7382 | Validation Accuracy: 46.15%\n",
      "Validation Precision: 0.2130\n",
      "Validation Recall: 0.4615\n",
      "Validation F1-score: 0.2915\n",
      "Validation MCC: 0.0000\n",
      "Epoch: 8/20\n"
     ]
    },
    {
     "name": "stderr",
     "output_type": "stream",
     "text": [
      "Training:   0%|                                                               | 0/4 [00:00<?, ?it/s]/Users/zainhazzouri/miniforge3/envs/Bachelor_Thesis/lib/python3.8/site-packages/torchaudio/functional/functional.py:576: UserWarning: At least one mel filterbank has all zero values. The value for `n_mels` (128) may be set too high. Or, the value for `n_freqs` (201) may be set too low.\n",
      "  warnings.warn(\n",
      "Training: 100%|███████████████████████████████████████████████████████| 4/4 [00:00<00:00,  9.28it/s]\n",
      "/Users/zainhazzouri/miniforge3/envs/Bachelor_Thesis/lib/python3.8/site-packages/sklearn/metrics/_classification.py:1344: UndefinedMetricWarning: Precision and F-score are ill-defined and being set to 0.0 in labels with no predicted samples. Use `zero_division` parameter to control this behavior.\n",
      "  _warn_prf(average, modifier, msg_start, len(result))\n"
     ]
    },
    {
     "name": "stdout",
     "output_type": "stream",
     "text": [
      "Train Loss: 0.7181 | Train Accuracy: 49.02%\n",
      "Validation Loss: 0.6742 | Validation Accuracy: 53.85%\n",
      "Validation Precision: 0.2899\n",
      "Validation Recall: 0.5385\n",
      "Validation F1-score: 0.3769\n",
      "Validation MCC: 0.0000\n",
      "Epoch: 9/20\n"
     ]
    },
    {
     "name": "stderr",
     "output_type": "stream",
     "text": [
      "Training:   0%|                                                               | 0/4 [00:00<?, ?it/s]/Users/zainhazzouri/miniforge3/envs/Bachelor_Thesis/lib/python3.8/site-packages/torchaudio/functional/functional.py:576: UserWarning: At least one mel filterbank has all zero values. The value for `n_mels` (128) may be set too high. Or, the value for `n_freqs` (201) may be set too low.\n",
      "  warnings.warn(\n",
      "Training: 100%|███████████████████████████████████████████████████████| 4/4 [00:00<00:00,  9.56it/s]\n",
      "/Users/zainhazzouri/miniforge3/envs/Bachelor_Thesis/lib/python3.8/site-packages/sklearn/metrics/_classification.py:1344: UndefinedMetricWarning: Precision and F-score are ill-defined and being set to 0.0 in labels with no predicted samples. Use `zero_division` parameter to control this behavior.\n",
      "  _warn_prf(average, modifier, msg_start, len(result))\n"
     ]
    },
    {
     "name": "stdout",
     "output_type": "stream",
     "text": [
      "Train Loss: 0.6958 | Train Accuracy: 49.02%\n",
      "Validation Loss: 0.6729 | Validation Accuracy: 53.85%\n",
      "Validation Precision: 0.2899\n",
      "Validation Recall: 0.5385\n",
      "Validation F1-score: 0.3769\n",
      "Validation MCC: 0.0000\n",
      "Epoch: 10/20\n"
     ]
    },
    {
     "name": "stderr",
     "output_type": "stream",
     "text": [
      "Training:   0%|                                                               | 0/4 [00:00<?, ?it/s]/Users/zainhazzouri/miniforge3/envs/Bachelor_Thesis/lib/python3.8/site-packages/torchaudio/functional/functional.py:576: UserWarning: At least one mel filterbank has all zero values. The value for `n_mels` (128) may be set too high. Or, the value for `n_freqs` (201) may be set too low.\n",
      "  warnings.warn(\n",
      "Training: 100%|███████████████████████████████████████████████████████| 4/4 [00:00<00:00,  9.48it/s]\n",
      "/Users/zainhazzouri/miniforge3/envs/Bachelor_Thesis/lib/python3.8/site-packages/sklearn/metrics/_classification.py:1344: UndefinedMetricWarning: Precision and F-score are ill-defined and being set to 0.0 in labels with no predicted samples. Use `zero_division` parameter to control this behavior.\n",
      "  _warn_prf(average, modifier, msg_start, len(result))\n"
     ]
    },
    {
     "name": "stdout",
     "output_type": "stream",
     "text": [
      "Train Loss: 0.6874 | Train Accuracy: 49.02%\n",
      "Validation Loss: 0.6994 | Validation Accuracy: 46.15%\n",
      "Validation Precision: 0.2130\n",
      "Validation Recall: 0.4615\n",
      "Validation F1-score: 0.2915\n",
      "Validation MCC: 0.0000\n",
      "Epoch: 11/20\n"
     ]
    },
    {
     "name": "stderr",
     "output_type": "stream",
     "text": [
      "Training:   0%|                                                               | 0/4 [00:00<?, ?it/s]/Users/zainhazzouri/miniforge3/envs/Bachelor_Thesis/lib/python3.8/site-packages/torchaudio/functional/functional.py:576: UserWarning: At least one mel filterbank has all zero values. The value for `n_mels` (128) may be set too high. Or, the value for `n_freqs` (201) may be set too low.\n",
      "  warnings.warn(\n",
      "Training: 100%|███████████████████████████████████████████████████████| 4/4 [00:00<00:00,  9.29it/s]\n",
      "/Users/zainhazzouri/miniforge3/envs/Bachelor_Thesis/lib/python3.8/site-packages/sklearn/metrics/_classification.py:1344: UndefinedMetricWarning: Precision and F-score are ill-defined and being set to 0.0 in labels with no predicted samples. Use `zero_division` parameter to control this behavior.\n",
      "  _warn_prf(average, modifier, msg_start, len(result))\n"
     ]
    },
    {
     "name": "stdout",
     "output_type": "stream",
     "text": [
      "Train Loss: 0.7276 | Train Accuracy: 50.98%\n",
      "Validation Loss: 0.6679 | Validation Accuracy: 53.85%\n",
      "Validation Precision: 0.2899\n",
      "Validation Recall: 0.5385\n",
      "Validation F1-score: 0.3769\n",
      "Validation MCC: 0.0000\n",
      "Epoch: 12/20\n"
     ]
    },
    {
     "name": "stderr",
     "output_type": "stream",
     "text": [
      "Training:   0%|                                                               | 0/4 [00:00<?, ?it/s]/Users/zainhazzouri/miniforge3/envs/Bachelor_Thesis/lib/python3.8/site-packages/torchaudio/functional/functional.py:576: UserWarning: At least one mel filterbank has all zero values. The value for `n_mels` (128) may be set too high. Or, the value for `n_freqs` (201) may be set too low.\n",
      "  warnings.warn(\n",
      "Training: 100%|███████████████████████████████████████████████████████| 4/4 [00:00<00:00,  9.77it/s]\n",
      "/Users/zainhazzouri/miniforge3/envs/Bachelor_Thesis/lib/python3.8/site-packages/sklearn/metrics/_classification.py:1344: UndefinedMetricWarning: Precision and F-score are ill-defined and being set to 0.0 in labels with no predicted samples. Use `zero_division` parameter to control this behavior.\n",
      "  _warn_prf(average, modifier, msg_start, len(result))\n"
     ]
    },
    {
     "name": "stdout",
     "output_type": "stream",
     "text": [
      "Train Loss: 0.7714 | Train Accuracy: 49.02%\n",
      "Validation Loss: 0.6683 | Validation Accuracy: 53.85%\n",
      "Validation Precision: 0.2899\n",
      "Validation Recall: 0.5385\n",
      "Validation F1-score: 0.3769\n",
      "Validation MCC: 0.0000\n",
      "Epoch: 13/20\n"
     ]
    },
    {
     "name": "stderr",
     "output_type": "stream",
     "text": [
      "Training:   0%|                                                               | 0/4 [00:00<?, ?it/s]/Users/zainhazzouri/miniforge3/envs/Bachelor_Thesis/lib/python3.8/site-packages/torchaudio/functional/functional.py:576: UserWarning: At least one mel filterbank has all zero values. The value for `n_mels` (128) may be set too high. Or, the value for `n_freqs` (201) may be set too low.\n",
      "  warnings.warn(\n",
      "Training: 100%|███████████████████████████████████████████████████████| 4/4 [00:00<00:00,  9.55it/s]\n",
      "/Users/zainhazzouri/miniforge3/envs/Bachelor_Thesis/lib/python3.8/site-packages/sklearn/metrics/_classification.py:1344: UndefinedMetricWarning: Precision and F-score are ill-defined and being set to 0.0 in labels with no predicted samples. Use `zero_division` parameter to control this behavior.\n",
      "  _warn_prf(average, modifier, msg_start, len(result))\n"
     ]
    },
    {
     "name": "stdout",
     "output_type": "stream",
     "text": [
      "Train Loss: 0.6863 | Train Accuracy: 49.02%\n",
      "Validation Loss: 0.7131 | Validation Accuracy: 53.85%\n",
      "Validation Precision: 0.2899\n",
      "Validation Recall: 0.5385\n",
      "Validation F1-score: 0.3769\n",
      "Validation MCC: 0.0000\n",
      "Epoch: 14/20\n"
     ]
    },
    {
     "name": "stderr",
     "output_type": "stream",
     "text": [
      "Training:   0%|                                                               | 0/4 [00:00<?, ?it/s]/Users/zainhazzouri/miniforge3/envs/Bachelor_Thesis/lib/python3.8/site-packages/torchaudio/functional/functional.py:576: UserWarning: At least one mel filterbank has all zero values. The value for `n_mels` (128) may be set too high. Or, the value for `n_freqs` (201) may be set too low.\n",
      "  warnings.warn(\n",
      "Training: 100%|███████████████████████████████████████████████████████| 4/4 [00:00<00:00,  9.60it/s]\n"
     ]
    },
    {
     "name": "stdout",
     "output_type": "stream",
     "text": [
      "Train Loss: 0.7315 | Train Accuracy: 50.00%\n",
      "Validation Loss: 0.7044 | Validation Accuracy: 57.69%\n",
      "Validation Precision: 0.7631\n",
      "Validation Recall: 0.5769\n",
      "Validation F1-score: 0.4576\n",
      "Validation MCC: 0.2160\n",
      "Epoch: 15/20\n"
     ]
    },
    {
     "name": "stderr",
     "output_type": "stream",
     "text": [
      "Training:   0%|                                                               | 0/4 [00:00<?, ?it/s]/Users/zainhazzouri/miniforge3/envs/Bachelor_Thesis/lib/python3.8/site-packages/torchaudio/functional/functional.py:576: UserWarning: At least one mel filterbank has all zero values. The value for `n_mels` (128) may be set too high. Or, the value for `n_freqs` (201) may be set too low.\n",
      "  warnings.warn(\n",
      "Training: 100%|███████████████████████████████████████████████████████| 4/4 [00:00<00:00,  9.28it/s]\n",
      "/Users/zainhazzouri/miniforge3/envs/Bachelor_Thesis/lib/python3.8/site-packages/sklearn/metrics/_classification.py:1344: UndefinedMetricWarning: Precision and F-score are ill-defined and being set to 0.0 in labels with no predicted samples. Use `zero_division` parameter to control this behavior.\n",
      "  _warn_prf(average, modifier, msg_start, len(result))\n"
     ]
    },
    {
     "name": "stdout",
     "output_type": "stream",
     "text": [
      "Train Loss: 0.7034 | Train Accuracy: 50.00%\n",
      "Validation Loss: 0.6627 | Validation Accuracy: 53.85%\n",
      "Validation Precision: 0.2899\n",
      "Validation Recall: 0.5385\n",
      "Validation F1-score: 0.3769\n",
      "Validation MCC: 0.0000\n",
      "Epoch: 16/20\n"
     ]
    },
    {
     "name": "stderr",
     "output_type": "stream",
     "text": [
      "Training:   0%|                                                               | 0/4 [00:00<?, ?it/s]/Users/zainhazzouri/miniforge3/envs/Bachelor_Thesis/lib/python3.8/site-packages/torchaudio/functional/functional.py:576: UserWarning: At least one mel filterbank has all zero values. The value for `n_mels` (128) may be set too high. Or, the value for `n_freqs` (201) may be set too low.\n",
      "  warnings.warn(\n",
      "Training: 100%|███████████████████████████████████████████████████████| 4/4 [00:00<00:00,  9.25it/s]\n",
      "/Users/zainhazzouri/miniforge3/envs/Bachelor_Thesis/lib/python3.8/site-packages/sklearn/metrics/_classification.py:1344: UndefinedMetricWarning: Precision and F-score are ill-defined and being set to 0.0 in labels with no predicted samples. Use `zero_division` parameter to control this behavior.\n",
      "  _warn_prf(average, modifier, msg_start, len(result))\n"
     ]
    },
    {
     "name": "stdout",
     "output_type": "stream",
     "text": [
      "Train Loss: 0.6658 | Train Accuracy: 49.02%\n",
      "Validation Loss: 0.6586 | Validation Accuracy: 53.85%\n",
      "Validation Precision: 0.2899\n",
      "Validation Recall: 0.5385\n",
      "Validation F1-score: 0.3769\n",
      "Validation MCC: 0.0000\n",
      "Epoch: 17/20\n"
     ]
    },
    {
     "name": "stderr",
     "output_type": "stream",
     "text": [
      "Training:   0%|                                                               | 0/4 [00:00<?, ?it/s]/Users/zainhazzouri/miniforge3/envs/Bachelor_Thesis/lib/python3.8/site-packages/torchaudio/functional/functional.py:576: UserWarning: At least one mel filterbank has all zero values. The value for `n_mels` (128) may be set too high. Or, the value for `n_freqs` (201) may be set too low.\n",
      "  warnings.warn(\n",
      "Training: 100%|███████████████████████████████████████████████████████| 4/4 [00:00<00:00,  9.55it/s]\n",
      "/Users/zainhazzouri/miniforge3/envs/Bachelor_Thesis/lib/python3.8/site-packages/sklearn/metrics/_classification.py:1344: UndefinedMetricWarning: Precision and F-score are ill-defined and being set to 0.0 in labels with no predicted samples. Use `zero_division` parameter to control this behavior.\n",
      "  _warn_prf(average, modifier, msg_start, len(result))\n"
     ]
    },
    {
     "name": "stdout",
     "output_type": "stream",
     "text": [
      "Train Loss: 0.6567 | Train Accuracy: 49.02%\n",
      "Validation Loss: 0.6521 | Validation Accuracy: 53.85%\n",
      "Validation Precision: 0.2899\n",
      "Validation Recall: 0.5385\n",
      "Validation F1-score: 0.3769\n",
      "Validation MCC: 0.0000\n",
      "Epoch: 18/20\n"
     ]
    },
    {
     "name": "stderr",
     "output_type": "stream",
     "text": [
      "Training:   0%|                                                               | 0/4 [00:00<?, ?it/s]/Users/zainhazzouri/miniforge3/envs/Bachelor_Thesis/lib/python3.8/site-packages/torchaudio/functional/functional.py:576: UserWarning: At least one mel filterbank has all zero values. The value for `n_mels` (128) may be set too high. Or, the value for `n_freqs` (201) may be set too low.\n",
      "  warnings.warn(\n",
      "Training: 100%|███████████████████████████████████████████████████████| 4/4 [00:00<00:00,  9.60it/s]\n",
      "/Users/zainhazzouri/miniforge3/envs/Bachelor_Thesis/lib/python3.8/site-packages/sklearn/metrics/_classification.py:1344: UndefinedMetricWarning: Precision and F-score are ill-defined and being set to 0.0 in labels with no predicted samples. Use `zero_division` parameter to control this behavior.\n",
      "  _warn_prf(average, modifier, msg_start, len(result))\n"
     ]
    },
    {
     "name": "stdout",
     "output_type": "stream",
     "text": [
      "Train Loss: 0.6840 | Train Accuracy: 49.02%\n",
      "Validation Loss: 0.6452 | Validation Accuracy: 53.85%\n",
      "Validation Precision: 0.2899\n",
      "Validation Recall: 0.5385\n",
      "Validation F1-score: 0.3769\n",
      "Validation MCC: 0.0000\n",
      "Epoch: 19/20\n"
     ]
    },
    {
     "name": "stderr",
     "output_type": "stream",
     "text": [
      "Training:   0%|                                                               | 0/4 [00:00<?, ?it/s]/Users/zainhazzouri/miniforge3/envs/Bachelor_Thesis/lib/python3.8/site-packages/torchaudio/functional/functional.py:576: UserWarning: At least one mel filterbank has all zero values. The value for `n_mels` (128) may be set too high. Or, the value for `n_freqs` (201) may be set too low.\n",
      "  warnings.warn(\n",
      "Training: 100%|███████████████████████████████████████████████████████| 4/4 [00:00<00:00,  9.62it/s]\n"
     ]
    },
    {
     "name": "stdout",
     "output_type": "stream",
     "text": [
      "Train Loss: 0.6587 | Train Accuracy: 49.02%\n",
      "Validation Loss: 0.6558 | Validation Accuracy: 57.69%\n",
      "Validation Precision: 0.7631\n",
      "Validation Recall: 0.5769\n",
      "Validation F1-score: 0.4576\n",
      "Validation MCC: 0.2160\n",
      "Epoch: 20/20\n"
     ]
    },
    {
     "name": "stderr",
     "output_type": "stream",
     "text": [
      "Training:   0%|                                                               | 0/4 [00:00<?, ?it/s]/Users/zainhazzouri/miniforge3/envs/Bachelor_Thesis/lib/python3.8/site-packages/torchaudio/functional/functional.py:576: UserWarning: At least one mel filterbank has all zero values. The value for `n_mels` (128) may be set too high. Or, the value for `n_freqs` (201) may be set too low.\n",
      "  warnings.warn(\n",
      "Training: 100%|███████████████████████████████████████████████████████| 4/4 [00:00<00:00,  9.78it/s]\n"
     ]
    },
    {
     "name": "stdout",
     "output_type": "stream",
     "text": [
      "Train Loss: 0.7009 | Train Accuracy: 50.00%\n",
      "Validation Loss: 0.6406 | Validation Accuracy: 57.69%\n",
      "Validation Precision: 0.7631\n",
      "Validation Recall: 0.5769\n",
      "Validation F1-score: 0.4576\n",
      "Validation MCC: 0.2160\n",
      "Training finished.\n"
     ]
    }
   ],
   "source": [
    "# Initialize lists for storing loss and accuracy\n",
    "train_losses = []\n",
    "train_accuracies = []\n",
    "val_losses = []\n",
    "val_accuracies = []\n",
    "val_precisions = []\n",
    "val_recalls = []\n",
    "val_f1_scores = []\n",
    "val_mccs = []\n",
    "\n",
    "\n",
    "# training loop\n",
    "for epoch in range(num_epochs):\n",
    "    print(f\"Epoch: {epoch+1}/{num_epochs}\")\n",
    "\n",
    "    model.train()\n",
    "    running_loss = 0.0\n",
    "    correct = 0\n",
    "    total = 0\n",
    "\n",
    "    for i, (inputs, targets) in enumerate(tqdm(train_loader, desc=\"Training\", ncols=100)):\n",
    "        inputs = inputs.to(device)\n",
    "        targets = targets.to(device)\n",
    "\n",
    "        # Zero the parameter gradients\n",
    "        optimizer.zero_grad()\n",
    "\n",
    "        # Forward pass\n",
    "        outputs = model(inputs)\n",
    "\n",
    "        # Calculate loss\n",
    "        loss = criterion(outputs, targets)\n",
    "\n",
    "        # Backward pass\n",
    "        loss.backward()\n",
    "\n",
    "        # Optimize\n",
    "        optimizer.step()\n",
    "\n",
    "        # Update loss\n",
    "        running_loss += loss.item()\n",
    "\n",
    "        # Update total and correct\n",
    "        _, predicted = torch.max(outputs.data, 1)\n",
    "        total += targets.size(0)\n",
    "        correct += (predicted == targets).sum().item()\n",
    "\n",
    "    # Calculate average loss and accuracy for the epoch\n",
    "    epoch_loss = running_loss / len(train_loader)\n",
    "    epoch_accuracy = 100 * correct / total\n",
    "    train_losses.append(epoch_loss)\n",
    "    train_accuracies.append(epoch_accuracy)\n",
    "\n",
    "    # Validate and store the validation loss and accuracy\n",
    "\n",
    "    # Validate and store the validation metrics\n",
    "    val_loss, val_accuracy, val_precision, val_recall, val_f1_score, val_mcc = evaluate(val_loader, model, criterion, device)\n",
    "    val_losses.append(val_loss)\n",
    "    val_accuracies.append(val_accuracy)\n",
    "    val_precisions.append(val_precision)\n",
    "    val_recalls.append(val_recall)\n",
    "    val_f1_scores.append(val_f1_score)\n",
    "    val_mccs.append(val_mcc)\n",
    "\n",
    "    print(f\"Train Loss: {epoch_loss:.4f} | Train Accuracy: {epoch_accuracy:.2f}%\")\n",
    "    print(f\"Validation Loss: {val_loss:.4f} | Validation Accuracy: {val_accuracy:.2f}%\")\n",
    "    print(f\"Validation Precision: {val_precision:.4f}\")\n",
    "    print(f\"Validation Recall: {val_recall:.4f}\")\n",
    "    print(f\"Validation F1-score: {val_f1_score:.4f}\")\n",
    "    print(f\"Validation MCC: {val_mcc:.4f}\")\n",
    "\n",
    "print(\"Training finished.\")\n",
    "\n"
   ],
   "metadata": {
    "collapsed": false,
    "ExecuteTime": {
     "start_time": "2023-04-27T13:54:11.214751Z",
     "end_time": "2023-04-27T13:54:21.833581Z"
    }
   }
  },
  {
   "cell_type": "code",
   "execution_count": 17,
   "outputs": [
    {
     "data": {
      "text/plain": "<Figure size 432x288 with 1 Axes>",
      "image/png": "[encoded data removed]"
     },
     "metadata": {
      "needs_background": "light"
     },
     "output_type": "display_data"
    },
    {
     "data": {
      "text/plain": "<Figure size 432x288 with 1 Axes>",
      "image/png": "[encoded data removed]"
     },
     "metadata": {
      "needs_background": "light"
     },
     "output_type": "display_data"
    },
    {
     "data": {
      "text/plain": "<Figure size 432x288 with 1 Axes>",
      "image/png": "[encoded data removed]"
     },
     "metadata": {
      "needs_background": "light"
     },
     "output_type": "display_data"
    }
   ],
   "source": [
    "# Plotting\n",
    "fig, (ax1, ax2) = plt.subplots(1, 2, figsize=(12, 4))\n",
    "\n",
    "# Loss\n",
    "ax1.plot(train_losses, label='Train')\n",
    "ax1.plot(val_losses, label='Validation')\n",
    "ax1.set_title('Loss')\n",
    "ax1.set_xlabel('Epoch')\n",
    "ax1.set_ylabel('Loss')\n",
    "ax1.legend()\n",
    "\n",
    "# Accuracy\n",
    "ax2.plot(train_accuracies, label='Train')\n",
    "ax2.plot(val_accuracies, label='Validation')\n",
    "ax2.set_title('Accuracy')\n",
    "ax2.set_xlabel('Epoch')\n",
    "ax2.set_ylabel('Accuracy (%)')\n",
    "ax2.legend()\n",
    "\n",
    "plt.show()"
   ],
   "metadata": {
    "collapsed": false,
    "ExecuteTime": {
     "start_time": "2023-04-27T13:54:37.737740Z",
     "end_time": "2023-04-27T13:54:37.964918Z"
    }
   }
  },
  {
   "cell_type": "code",
   "execution_count": 18,
   "outputs": [
    {
     "name": "stderr",
     "output_type": "stream",
     "text": [
      "/Users/zainhazzouri/miniforge3/envs/Bachelor_Thesis/lib/python3.8/site-packages/torchaudio/functional/functional.py:576: UserWarning: At least one mel filterbank has all zero values. The value for `n_mels` (128) may be set too high. Or, the value for `n_freqs` (201) may be set too low.\n",
      "  warnings.warn(\n"
     ]
    },
    {
     "data": {
      "text/plain": "<Figure size 432x288 with 2 Axes>",
      "image/png": "[encoded data removed]"
     },
     "metadata": {
      "needs_background": "light"
     },
     "output_type": "display_data"
    },
    {
     "data": {
      "text/plain": "<Figure size 720x288 with 2 Axes>",
      "image/png": "[encoded data removed]"
     },
     "metadata": {
      "needs_background": "light"
     },
     "output_type": "display_data"
    }
   ],
   "source": [
    "def plot_confusion_matrix(y_true, y_pred, labels, ax=None, title=None):\n",
    "    cm = confusion_matrix(y_true, y_pred, labels=labels)\n",
    "    if ax is None:\n",
    "        _, ax = plt.subplots()\n",
    "    sns.heatmap(cm, annot=True, fmt=\"d\", cmap=\"YlGnBu\", ax=ax, xticklabels=labels, yticklabels=labels)\n",
    "    ax.set_xlabel(\"Predicted\")\n",
    "    ax.set_ylabel(\"True\")\n",
    "    if title:\n",
    "        ax.set_title(title)\n",
    "\n",
    "def get_weights_gradients(model):\n",
    "    weights = []\n",
    "    gradients = []\n",
    "    for name, param in model.named_parameters():\n",
    "        if param.requires_grad:\n",
    "            weights.append(param.data.cpu().numpy())\n",
    "            gradients.append(param.grad.data.cpu().numpy())\n",
    "    return weights, gradients\n",
    "\n",
    "def plot_histograms(weights, gradients, figsize=(10, 4)):\n",
    "    fig, (ax1, ax2) = plt.subplots(1, 2, figsize=figsize)\n",
    "\n",
    "    for w in weights:\n",
    "        ax1.hist(w.flatten(), bins=100, alpha=0.5)\n",
    "    ax1.set_title(\"Weights Histogram\")\n",
    "    ax1.set_xlabel(\"Value\")\n",
    "    ax1.set_ylabel(\"Frequency\")\n",
    "\n",
    "    for g in gradients:\n",
    "        ax2.hist(g.flatten(), bins=100, alpha=0.5)\n",
    "    ax2.set_title(\"Gradients Histogram\")\n",
    "    ax2.set_xlabel(\"Value\")\n",
    "    ax2.set_ylabel(\"Frequency\")\n",
    "\n",
    "    plt.show()\n",
    "\n",
    "# Get true labels and predictions on the validation set\n",
    "y_true = []\n",
    "y_pred = []\n",
    "model.eval()\n",
    "with torch.no_grad():\n",
    "    for inputs, targets in val_loader:\n",
    "        inputs = inputs.to(device)\n",
    "        targets = targets.to(device)\n",
    "        outputs = model(inputs)\n",
    "        _, predicted = torch.max(outputs.data, 1)\n",
    "        y_true.extend(targets.cpu().numpy())\n",
    "        y_pred.extend(predicted.cpu().numpy())\n",
    "\n",
    "# Plot confusion matrix\n",
    "plot_confusion_matrix(y_true, y_pred, labels=[0, 1], title=\"Confusion Matrix\")\n",
    "\n",
    "# Extract weights and gradients and plot histograms\n",
    "weights, gradients = get_weights_gradients(model)\n",
    "plot_histograms(weights, gradients)\n"
   ],
   "metadata": {
    "collapsed": false,
    "ExecuteTime": {
     "start_time": "2023-04-27T13:54:47.598185Z",
     "end_time": "2023-04-27T13:54:49.120749Z"
    }
   }
  },
  {
   "cell_type": "code",
   "execution_count": 19,
   "outputs": [
    {
     "name": "stdout",
     "output_type": "stream",
     "text": [
      "Model saved.\n"
     ]
    }
   ],
   "source": [
    "# Save the trained model\n",
    "torch.save(model.state_dict(), \"CNNModel_speech_music_discrimination.pth\")\n",
    "print(\"Model saved.\")"
   ],
   "metadata": {
    "collapsed": false,
    "ExecuteTime": {
     "start_time": "2023-04-27T13:54:58.252291Z",
     "end_time": "2023-04-27T13:54:58.279441Z"
    }
   }
  },
  {
   "cell_type": "code",
   "execution_count": 20,
   "outputs": [
    {
     "name": "stdout",
     "output_type": "stream",
     "text": [
      "\n",
      "Model summary:\n",
      "----------------------------------------------------------------\n",
      "        Layer (type)               Output Shape         Param #\n",
      "================================================================\n",
      "            Conv2d-1          [-1, 40, 20, 216]           1,040\n",
      "              ReLU-2          [-1, 40, 20, 216]               0\n",
      "            Conv2d-3          [-1, 80, 10, 108]          80,080\n",
      "              ReLU-4          [-1, 80, 10, 108]               0\n",
      "            Conv2d-5           [-1, 160, 5, 54]         320,160\n",
      "              ReLU-6           [-1, 160, 5, 54]               0\n",
      "   ConvTranspose2d-7          [-1, 80, 10, 108]         320,080\n",
      "              ReLU-8          [-1, 80, 10, 108]               0\n",
      "   ConvTranspose2d-9          [-1, 40, 20, 216]          80,040\n",
      "             ReLU-10          [-1, 40, 20, 216]               0\n",
      "  ConvTranspose2d-11          [-1, 40, 40, 432]          40,040\n",
      "             ReLU-12          [-1, 40, 40, 432]               0\n",
      "AdaptiveAvgPool2d-13             [-1, 40, 1, 1]               0\n",
      "           Linear-14                    [-1, 4]             164\n",
      "================================================================\n",
      "Total params: 841,604\n",
      "Trainable params: 841,604\n",
      "Non-trainable params: 0\n",
      "----------------------------------------------------------------\n",
      "Input size (MB): 0.07\n",
      "Forward/backward pass size (MB): 19.12\n",
      "Params size (MB): 3.21\n",
      "Estimated Total Size (MB): 22.39\n",
      "----------------------------------------------------------------\n"
     ]
    }
   ],
   "source": [
    "# Show model summary\n",
    "try:\n",
    "    from torchsummary import summary\n",
    "    print(\"\\nModel summary:\")\n",
    "\n",
    "    original_device = device\n",
    "    if device == 'mps': # because MPS is not supported by torchsummary\n",
    "        device = 'cpu'\n",
    "    model.to(device)\n",
    "\n",
    "    summary(model, input_size=(1, 40, 431), device=device)\n",
    "\n",
    "    if original_device == 'mps': # Restore original device\n",
    "        device = original_device\n",
    "        model.to(device)\n",
    "\n",
    "except ImportError:\n",
    "    print(\"\\nPlease install torchsummary to display the model summary. Use `pip install torchsummary`.\")"
   ],
   "metadata": {
    "collapsed": false,
    "ExecuteTime": {
     "start_time": "2023-04-27T13:54:58.775702Z",
     "end_time": "2023-04-27T13:54:58.829486Z"
    }
   }
  },
  {
   "cell_type": "code",
   "execution_count": null,
   "outputs": [],
   "source": [],
   "metadata": {
    "collapsed": false,
    "ExecuteTime": {
     "start_time": "2023-04-26T23:24:18.923913Z",
     "end_time": "2023-04-26T23:24:18.925867Z"
    }
   }
  },
  {
   "cell_type": "code",
   "execution_count": 7,
   "outputs": [],
   "source": [],
   "metadata": {
    "collapsed": false,
    "ExecuteTime": {
     "start_time": "2023-04-26T23:24:18.927041Z",
     "end_time": "2023-04-26T23:24:18.928678Z"
    }
   }
  },
  {
   "cell_type": "code",
   "execution_count": null,
   "outputs": [],
   "source": [],
   "metadata": {
    "collapsed": false
   }
  }
 ],
 "metadata": {
  "kernelspec": {
   "display_name": "Python 3",
   "language": "python",
   "name": "python3"
  },
  "language_info": {
   "codemirror_mode": {
    "name": "ipython",
    "version": 2
   },
   "file_extension": ".py",
   "mimetype": "text/x-python",
   "name": "python",
   "nbconvert_exporter": "python",
   "pygments_lexer": "ipython2",
   "version": "2.7.6"
  }
 },
 "nbformat": 4,
 "nbformat_minor": 0
}
